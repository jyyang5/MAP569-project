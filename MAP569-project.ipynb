{
 "nbformat": 4,
 "nbformat_minor": 2,
 "metadata": {
  "language_info": {
   "name": "python",
   "codemirror_mode": {
    "name": "ipython",
    "version": 3
   },
   "version": "3.7.3-final"
  },
  "orig_nbformat": 2,
  "file_extension": ".py",
  "mimetype": "text/x-python",
  "name": "python",
  "npconvert_exporter": "python",
  "pygments_lexer": "ipython3",
  "version": 3,
  "kernelspec": {
   "name": "py37",
   "display_name": "Python (py37)"
  }
 },
 "cells": [
  {
   "cell_type": "code",
   "execution_count": 1,
   "metadata": {},
   "outputs": [],
   "source": [
    "import numpy as np \n",
    "import pandas as pd\n",
    "import matplotlib.pyplot as plt\n",
    "from datetime import datetime, timedelta\n",
    "from sklearn.model_selection import train_test_split\n",
    ""
   ]
  },
  {
   "cell_type": "markdown",
   "metadata": {},
   "source": [
    "# 1. Data preprocessing"
   ]
  },
  {
   "cell_type": "code",
   "execution_count": 28,
   "metadata": {},
   "outputs": [],
   "source": [
    "data_df = pd.read_csv('CreditTraining.csv')\n",
    "label_df = data_df['Prod_Category'].tolist()"
   ]
  },
  {
   "cell_type": "code",
   "execution_count": 29,
   "metadata": {},
   "outputs": [
    {
     "output_type": "execute_result",
     "data": {
      "text/plain": "   Id_Customer  Y        Customer_Type   BirthDate Customer_Open_Date  \\\n0         7440  0  Non Existing Client  07/08/1977         13/02/2012   \n1          573  0      Existing Client  13/06/1974         04/02/2009   \n2         9194  0  Non Existing Client  07/11/1973         03/04/2012   \n3         3016  1      Existing Client  08/07/1982         25/08/2011   \n4         6524  0  Non Existing Client  18/08/1953         10/01/2012   \n\n    P_Client Educational_Level Marital_Status  Number_Of_Dependant  \\\n0  NP_Client        University        Married                  3.0   \n1   P_Client        University        Married                  0.0   \n2  NP_Client        University        Married                  2.0   \n3  NP_Client        University        Married                  3.0   \n4  NP_Client        University        Married                  2.0   \n\n   Years_At_Residence Net_Annual_Income  Years_At_Business Prod_Sub_Category  \\\n0                   1                36                1.0                 C   \n1                  12                18                2.0                 C   \n2                  10                36                1.0                 C   \n3                   3                36                1.0                 C   \n4                   1                36                1.0                 C   \n\n  Prod_Decision_Date Source Type_Of_Residence  Nb_Of_Products  \\\n0         14/02/2012  Sales             Owned               1   \n1         30/06/2011  Sales           Parents               1   \n2         04/04/2012  Sales             Owned               1   \n3         07/09/2011  Sales          New rent               1   \n4         11/01/2012  Sales             Owned               1   \n\n  Prod_Closed_Date Prod_Category  \n0              NaN             B  \n1              NaN             G  \n2              NaN             B  \n3       31/12/2012             L  \n4              NaN             D  ",
      "text/html": "<div>\n<style scoped>\n    .dataframe tbody tr th:only-of-type {\n        vertical-align: middle;\n    }\n\n    .dataframe tbody tr th {\n        vertical-align: top;\n    }\n\n    .dataframe thead th {\n        text-align: right;\n    }\n</style>\n<table border=\"1\" class=\"dataframe\">\n  <thead>\n    <tr style=\"text-align: right;\">\n      <th></th>\n      <th>Id_Customer</th>\n      <th>Y</th>\n      <th>Customer_Type</th>\n      <th>BirthDate</th>\n      <th>Customer_Open_Date</th>\n      <th>P_Client</th>\n      <th>Educational_Level</th>\n      <th>Marital_Status</th>\n      <th>Number_Of_Dependant</th>\n      <th>Years_At_Residence</th>\n      <th>Net_Annual_Income</th>\n      <th>Years_At_Business</th>\n      <th>Prod_Sub_Category</th>\n      <th>Prod_Decision_Date</th>\n      <th>Source</th>\n      <th>Type_Of_Residence</th>\n      <th>Nb_Of_Products</th>\n      <th>Prod_Closed_Date</th>\n      <th>Prod_Category</th>\n    </tr>\n  </thead>\n  <tbody>\n    <tr>\n      <th>0</th>\n      <td>7440</td>\n      <td>0</td>\n      <td>Non Existing Client</td>\n      <td>07/08/1977</td>\n      <td>13/02/2012</td>\n      <td>NP_Client</td>\n      <td>University</td>\n      <td>Married</td>\n      <td>3.0</td>\n      <td>1</td>\n      <td>36</td>\n      <td>1.0</td>\n      <td>C</td>\n      <td>14/02/2012</td>\n      <td>Sales</td>\n      <td>Owned</td>\n      <td>1</td>\n      <td>NaN</td>\n      <td>B</td>\n    </tr>\n    <tr>\n      <th>1</th>\n      <td>573</td>\n      <td>0</td>\n      <td>Existing Client</td>\n      <td>13/06/1974</td>\n      <td>04/02/2009</td>\n      <td>P_Client</td>\n      <td>University</td>\n      <td>Married</td>\n      <td>0.0</td>\n      <td>12</td>\n      <td>18</td>\n      <td>2.0</td>\n      <td>C</td>\n      <td>30/06/2011</td>\n      <td>Sales</td>\n      <td>Parents</td>\n      <td>1</td>\n      <td>NaN</td>\n      <td>G</td>\n    </tr>\n    <tr>\n      <th>2</th>\n      <td>9194</td>\n      <td>0</td>\n      <td>Non Existing Client</td>\n      <td>07/11/1973</td>\n      <td>03/04/2012</td>\n      <td>NP_Client</td>\n      <td>University</td>\n      <td>Married</td>\n      <td>2.0</td>\n      <td>10</td>\n      <td>36</td>\n      <td>1.0</td>\n      <td>C</td>\n      <td>04/04/2012</td>\n      <td>Sales</td>\n      <td>Owned</td>\n      <td>1</td>\n      <td>NaN</td>\n      <td>B</td>\n    </tr>\n    <tr>\n      <th>3</th>\n      <td>3016</td>\n      <td>1</td>\n      <td>Existing Client</td>\n      <td>08/07/1982</td>\n      <td>25/08/2011</td>\n      <td>NP_Client</td>\n      <td>University</td>\n      <td>Married</td>\n      <td>3.0</td>\n      <td>3</td>\n      <td>36</td>\n      <td>1.0</td>\n      <td>C</td>\n      <td>07/09/2011</td>\n      <td>Sales</td>\n      <td>New rent</td>\n      <td>1</td>\n      <td>31/12/2012</td>\n      <td>L</td>\n    </tr>\n    <tr>\n      <th>4</th>\n      <td>6524</td>\n      <td>0</td>\n      <td>Non Existing Client</td>\n      <td>18/08/1953</td>\n      <td>10/01/2012</td>\n      <td>NP_Client</td>\n      <td>University</td>\n      <td>Married</td>\n      <td>2.0</td>\n      <td>1</td>\n      <td>36</td>\n      <td>1.0</td>\n      <td>C</td>\n      <td>11/01/2012</td>\n      <td>Sales</td>\n      <td>Owned</td>\n      <td>1</td>\n      <td>NaN</td>\n      <td>D</td>\n    </tr>\n  </tbody>\n</table>\n</div>"
     },
     "metadata": {},
     "execution_count": 29
    }
   ],
   "source": [
    "# data_df = data_df.drop(['Prod_Category'], axis=1)\n",
    "data_df.head()"
   ]
  },
  {
   "cell_type": "markdown",
   "metadata": {},
   "source": [
    "Observations: there are categorical data, and we would to deal with that \n",
    "\n",
    "## 1.0. Types of data"
   ]
  },
  {
   "cell_type": "code",
   "execution_count": 30,
   "metadata": {},
   "outputs": [],
   "source": [
    "clean_df = data_df.select_dtypes(exclude=['object']).copy()"
   ]
  },
  {
   "cell_type": "code",
   "execution_count": 31,
   "metadata": {},
   "outputs": [
    {
     "output_type": "execute_result",
     "data": {
      "text/plain": "         Customer_Type   BirthDate Customer_Open_Date   P_Client  \\\n0  Non Existing Client  07/08/1977         13/02/2012  NP_Client   \n1      Existing Client  13/06/1974         04/02/2009   P_Client   \n2  Non Existing Client  07/11/1973         03/04/2012  NP_Client   \n3      Existing Client  08/07/1982         25/08/2011  NP_Client   \n4  Non Existing Client  18/08/1953         10/01/2012  NP_Client   \n\n  Educational_Level Marital_Status Net_Annual_Income Prod_Sub_Category  \\\n0        University        Married                36                 C   \n1        University        Married                18                 C   \n2        University        Married                36                 C   \n3        University        Married                36                 C   \n4        University        Married                36                 C   \n\n  Prod_Decision_Date Source Type_Of_Residence Prod_Closed_Date Prod_Category  \n0         14/02/2012  Sales             Owned              NaN             B  \n1         30/06/2011  Sales           Parents              NaN             G  \n2         04/04/2012  Sales             Owned              NaN             B  \n3         07/09/2011  Sales          New rent       31/12/2012             L  \n4         11/01/2012  Sales             Owned              NaN             D  ",
      "text/html": "<div>\n<style scoped>\n    .dataframe tbody tr th:only-of-type {\n        vertical-align: middle;\n    }\n\n    .dataframe tbody tr th {\n        vertical-align: top;\n    }\n\n    .dataframe thead th {\n        text-align: right;\n    }\n</style>\n<table border=\"1\" class=\"dataframe\">\n  <thead>\n    <tr style=\"text-align: right;\">\n      <th></th>\n      <th>Customer_Type</th>\n      <th>BirthDate</th>\n      <th>Customer_Open_Date</th>\n      <th>P_Client</th>\n      <th>Educational_Level</th>\n      <th>Marital_Status</th>\n      <th>Net_Annual_Income</th>\n      <th>Prod_Sub_Category</th>\n      <th>Prod_Decision_Date</th>\n      <th>Source</th>\n      <th>Type_Of_Residence</th>\n      <th>Prod_Closed_Date</th>\n      <th>Prod_Category</th>\n    </tr>\n  </thead>\n  <tbody>\n    <tr>\n      <th>0</th>\n      <td>Non Existing Client</td>\n      <td>07/08/1977</td>\n      <td>13/02/2012</td>\n      <td>NP_Client</td>\n      <td>University</td>\n      <td>Married</td>\n      <td>36</td>\n      <td>C</td>\n      <td>14/02/2012</td>\n      <td>Sales</td>\n      <td>Owned</td>\n      <td>NaN</td>\n      <td>B</td>\n    </tr>\n    <tr>\n      <th>1</th>\n      <td>Existing Client</td>\n      <td>13/06/1974</td>\n      <td>04/02/2009</td>\n      <td>P_Client</td>\n      <td>University</td>\n      <td>Married</td>\n      <td>18</td>\n      <td>C</td>\n      <td>30/06/2011</td>\n      <td>Sales</td>\n      <td>Parents</td>\n      <td>NaN</td>\n      <td>G</td>\n    </tr>\n    <tr>\n      <th>2</th>\n      <td>Non Existing Client</td>\n      <td>07/11/1973</td>\n      <td>03/04/2012</td>\n      <td>NP_Client</td>\n      <td>University</td>\n      <td>Married</td>\n      <td>36</td>\n      <td>C</td>\n      <td>04/04/2012</td>\n      <td>Sales</td>\n      <td>Owned</td>\n      <td>NaN</td>\n      <td>B</td>\n    </tr>\n    <tr>\n      <th>3</th>\n      <td>Existing Client</td>\n      <td>08/07/1982</td>\n      <td>25/08/2011</td>\n      <td>NP_Client</td>\n      <td>University</td>\n      <td>Married</td>\n      <td>36</td>\n      <td>C</td>\n      <td>07/09/2011</td>\n      <td>Sales</td>\n      <td>New rent</td>\n      <td>31/12/2012</td>\n      <td>L</td>\n    </tr>\n    <tr>\n      <th>4</th>\n      <td>Non Existing Client</td>\n      <td>18/08/1953</td>\n      <td>10/01/2012</td>\n      <td>NP_Client</td>\n      <td>University</td>\n      <td>Married</td>\n      <td>36</td>\n      <td>C</td>\n      <td>11/01/2012</td>\n      <td>Sales</td>\n      <td>Owned</td>\n      <td>NaN</td>\n      <td>D</td>\n    </tr>\n  </tbody>\n</table>\n</div>"
     },
     "metadata": {},
     "execution_count": 31
    }
   ],
   "source": [
    "cat_df = data_df.select_dtypes(include=['object']).copy()\n",
    "cat_df.head()"
   ]
  },
  {
   "cell_type": "code",
   "execution_count": 32,
   "metadata": {},
   "outputs": [
    {
     "output_type": "execute_result",
     "data": {
      "text/plain": "Index(['Customer_Type', 'BirthDate', 'Customer_Open_Date', 'P_Client',\n       'Educational_Level', 'Marital_Status', 'Net_Annual_Income',\n       'Prod_Sub_Category', 'Prod_Decision_Date', 'Source',\n       'Type_Of_Residence', 'Prod_Closed_Date', 'Prod_Category'],\n      dtype='object')"
     },
     "metadata": {},
     "execution_count": 32
    }
   ],
   "source": [
    "cat_df.columns"
   ]
  },
  {
   "cell_type": "code",
   "execution_count": 33,
   "metadata": {},
   "outputs": [
    {
     "output_type": "execute_result",
     "data": {
      "text/plain": "Married      4206\nSingle       1046\nWidowed        64\nDivorced       63\nSeparated       1\nName: Marital_Status, dtype: int64"
     },
     "metadata": {},
     "execution_count": 33
    }
   ],
   "source": [
    "cat_df['Marital_Status'].value_counts()"
   ]
  },
  {
   "cell_type": "markdown",
   "metadata": {},
   "source": [
    "## 1.1. Deal with categorical data excluding date\n",
    "\n",
    "From all categorical datas ['Customer_Type', 'BirthDate', 'Customer_Open_Date', 'P_Client',\n",
    "       'Educational_Level', 'Marital_Status', 'Net_Annual_Income',\n",
    "       'Prod_Sub_Category', 'Prod_Decision_Date', 'Source',\n",
    "       'Type_Of_Residence', 'Prod_Closed_Date', 'Prod_Category']\n",
    "\n",
    "We first exclude ['BirthDate', 'Customer_Open_Date', 'Net_Annual_Income', 'Prod_Decision_Date']\n",
    "\n",
    "We use 0-1 encoding for each category"
   ]
  },
  {
   "cell_type": "code",
   "execution_count": 34,
   "metadata": {},
   "outputs": [
    {
     "output_type": "stream",
     "name": "stdout",
     "text": "Non Existing Client    3369\nExisting Client        2011\nName: Customer_Type, dtype: int64\nNP_Client    4968\nP_Client      412\nName: P_Client, dtype: int64\nUniversity           4785\nMaster/PhD            522\nDiploma                58\nSecondary or Less      15\nName: Educational_Level, dtype: int64\nMarried      4206\nSingle       1046\nWidowed        64\nDivorced       63\nSeparated       1\nName: Marital_Status, dtype: int64\nC    4638\nG     624\nP     118\nName: Prod_Sub_Category, dtype: int64\nSales     4119\nBranch    1261\nName: Source, dtype: int64\nOwned       4791\nOld rent     323\nParents      179\nNew rent      83\nCompany        4\nName: Type_Of_Residence, dtype: int64\nB    3176\nD     670\nC     517\nK     265\nL     236\nG     188\nE     101\nH      79\nJ      71\nM      49\nA      19\nF       5\nI       4\nName: Prod_Category, dtype: int64\n"
    }
   ],
   "source": [
    "for name in ['Customer_Type', 'P_Client',\n",
    "            'Educational_Level', 'Marital_Status',\n",
    "            'Prod_Sub_Category', 'Source',\n",
    "            'Type_Of_Residence', 'Prod_Category']:\n",
    "        print(cat_df[name].value_counts())"
   ]
  },
  {
   "cell_type": "code",
   "execution_count": 35,
   "metadata": {},
   "outputs": [
    {
     "output_type": "execute_result",
     "data": {
      "text/plain": "   Customer_Type_Existing Client  Customer_Type_Non Existing Client  \\\n0                              0                                  1   \n1                              1                                  0   \n2                              0                                  1   \n3                              1                                  0   \n4                              0                                  1   \n5                              1                                  0   \n6                              0                                  1   \n7                              0                                  1   \n8                              1                                  0   \n9                              1                                  0   \n\n   P_Client_NP_Client  P_Client_P_Client  Educational_Level_Diploma  \\\n0                   1                  0                          0   \n1                   0                  1                          0   \n2                   1                  0                          0   \n3                   1                  0                          0   \n4                   1                  0                          0   \n5                   1                  0                          0   \n6                   1                  0                          0   \n7                   1                  0                          0   \n8                   1                  0                          0   \n9                   1                  0                          0   \n\n   Educational_Level_Master/PhD  Educational_Level_Secondary or Less  \\\n0                             0                                    0   \n1                             0                                    0   \n2                             0                                    0   \n3                             0                                    0   \n4                             0                                    0   \n5                             0                                    0   \n6                             0                                    0   \n7                             0                                    0   \n8                             0                                    0   \n9                             0                                    0   \n\n   Educational_Level_University  Marital_Status_Divorced  \\\n0                             1                        0   \n1                             1                        0   \n2                             1                        0   \n3                             1                        0   \n4                             1                        0   \n5                             1                        0   \n6                             1                        0   \n7                             1                        0   \n8                             1                        0   \n9                             1                        0   \n\n   Marital_Status_Married  ...  Prod_Category_D  Prod_Category_E  \\\n0                       1  ...                0                0   \n1                       1  ...                0                0   \n2                       1  ...                0                0   \n3                       1  ...                0                0   \n4                       1  ...                1                0   \n5                       1  ...                0                0   \n6                       1  ...                0                0   \n7                       1  ...                0                0   \n8                       0  ...                0                1   \n9                       1  ...                0                0   \n\n   Prod_Category_F  Prod_Category_G  Prod_Category_H  Prod_Category_I  \\\n0                0                0                0                0   \n1                0                1                0                0   \n2                0                0                0                0   \n3                0                0                0                0   \n4                0                0                0                0   \n5                0                0                0                0   \n6                0                0                0                0   \n7                0                0                0                0   \n8                0                0                0                0   \n9                0                0                0                0   \n\n   Prod_Category_J  Prod_Category_K  Prod_Category_L  Prod_Category_M  \n0                0                0                0                0  \n1                0                0                0                0  \n2                0                0                0                0  \n3                0                0                1                0  \n4                0                0                0                0  \n5                0                0                0                0  \n6                0                0                0                0  \n7                0                0                0                0  \n8                0                0                0                0  \n9                0                0                1                0  \n\n[10 rows x 36 columns]",
      "text/html": "<div>\n<style scoped>\n    .dataframe tbody tr th:only-of-type {\n        vertical-align: middle;\n    }\n\n    .dataframe tbody tr th {\n        vertical-align: top;\n    }\n\n    .dataframe thead th {\n        text-align: right;\n    }\n</style>\n<table border=\"1\" class=\"dataframe\">\n  <thead>\n    <tr style=\"text-align: right;\">\n      <th></th>\n      <th>Customer_Type_Existing Client</th>\n      <th>Customer_Type_Non Existing Client</th>\n      <th>P_Client_NP_Client</th>\n      <th>P_Client_P_Client</th>\n      <th>Educational_Level_Diploma</th>\n      <th>Educational_Level_Master/PhD</th>\n      <th>Educational_Level_Secondary or Less</th>\n      <th>Educational_Level_University</th>\n      <th>Marital_Status_Divorced</th>\n      <th>Marital_Status_Married</th>\n      <th>...</th>\n      <th>Prod_Category_D</th>\n      <th>Prod_Category_E</th>\n      <th>Prod_Category_F</th>\n      <th>Prod_Category_G</th>\n      <th>Prod_Category_H</th>\n      <th>Prod_Category_I</th>\n      <th>Prod_Category_J</th>\n      <th>Prod_Category_K</th>\n      <th>Prod_Category_L</th>\n      <th>Prod_Category_M</th>\n    </tr>\n  </thead>\n  <tbody>\n    <tr>\n      <th>0</th>\n      <td>0</td>\n      <td>1</td>\n      <td>1</td>\n      <td>0</td>\n      <td>0</td>\n      <td>0</td>\n      <td>0</td>\n      <td>1</td>\n      <td>0</td>\n      <td>1</td>\n      <td>...</td>\n      <td>0</td>\n      <td>0</td>\n      <td>0</td>\n      <td>0</td>\n      <td>0</td>\n      <td>0</td>\n      <td>0</td>\n      <td>0</td>\n      <td>0</td>\n      <td>0</td>\n    </tr>\n    <tr>\n      <th>1</th>\n      <td>1</td>\n      <td>0</td>\n      <td>0</td>\n      <td>1</td>\n      <td>0</td>\n      <td>0</td>\n      <td>0</td>\n      <td>1</td>\n      <td>0</td>\n      <td>1</td>\n      <td>...</td>\n      <td>0</td>\n      <td>0</td>\n      <td>0</td>\n      <td>1</td>\n      <td>0</td>\n      <td>0</td>\n      <td>0</td>\n      <td>0</td>\n      <td>0</td>\n      <td>0</td>\n    </tr>\n    <tr>\n      <th>2</th>\n      <td>0</td>\n      <td>1</td>\n      <td>1</td>\n      <td>0</td>\n      <td>0</td>\n      <td>0</td>\n      <td>0</td>\n      <td>1</td>\n      <td>0</td>\n      <td>1</td>\n      <td>...</td>\n      <td>0</td>\n      <td>0</td>\n      <td>0</td>\n      <td>0</td>\n      <td>0</td>\n      <td>0</td>\n      <td>0</td>\n      <td>0</td>\n      <td>0</td>\n      <td>0</td>\n    </tr>\n    <tr>\n      <th>3</th>\n      <td>1</td>\n      <td>0</td>\n      <td>1</td>\n      <td>0</td>\n      <td>0</td>\n      <td>0</td>\n      <td>0</td>\n      <td>1</td>\n      <td>0</td>\n      <td>1</td>\n      <td>...</td>\n      <td>0</td>\n      <td>0</td>\n      <td>0</td>\n      <td>0</td>\n      <td>0</td>\n      <td>0</td>\n      <td>0</td>\n      <td>0</td>\n      <td>1</td>\n      <td>0</td>\n    </tr>\n    <tr>\n      <th>4</th>\n      <td>0</td>\n      <td>1</td>\n      <td>1</td>\n      <td>0</td>\n      <td>0</td>\n      <td>0</td>\n      <td>0</td>\n      <td>1</td>\n      <td>0</td>\n      <td>1</td>\n      <td>...</td>\n      <td>1</td>\n      <td>0</td>\n      <td>0</td>\n      <td>0</td>\n      <td>0</td>\n      <td>0</td>\n      <td>0</td>\n      <td>0</td>\n      <td>0</td>\n      <td>0</td>\n    </tr>\n    <tr>\n      <th>5</th>\n      <td>1</td>\n      <td>0</td>\n      <td>1</td>\n      <td>0</td>\n      <td>0</td>\n      <td>0</td>\n      <td>0</td>\n      <td>1</td>\n      <td>0</td>\n      <td>1</td>\n      <td>...</td>\n      <td>0</td>\n      <td>0</td>\n      <td>0</td>\n      <td>0</td>\n      <td>0</td>\n      <td>0</td>\n      <td>0</td>\n      <td>0</td>\n      <td>0</td>\n      <td>0</td>\n    </tr>\n    <tr>\n      <th>6</th>\n      <td>0</td>\n      <td>1</td>\n      <td>1</td>\n      <td>0</td>\n      <td>0</td>\n      <td>0</td>\n      <td>0</td>\n      <td>1</td>\n      <td>0</td>\n      <td>1</td>\n      <td>...</td>\n      <td>0</td>\n      <td>0</td>\n      <td>0</td>\n      <td>0</td>\n      <td>0</td>\n      <td>0</td>\n      <td>0</td>\n      <td>0</td>\n      <td>0</td>\n      <td>0</td>\n    </tr>\n    <tr>\n      <th>7</th>\n      <td>0</td>\n      <td>1</td>\n      <td>1</td>\n      <td>0</td>\n      <td>0</td>\n      <td>0</td>\n      <td>0</td>\n      <td>1</td>\n      <td>0</td>\n      <td>1</td>\n      <td>...</td>\n      <td>0</td>\n      <td>0</td>\n      <td>0</td>\n      <td>0</td>\n      <td>0</td>\n      <td>0</td>\n      <td>0</td>\n      <td>0</td>\n      <td>0</td>\n      <td>0</td>\n    </tr>\n    <tr>\n      <th>8</th>\n      <td>1</td>\n      <td>0</td>\n      <td>1</td>\n      <td>0</td>\n      <td>0</td>\n      <td>0</td>\n      <td>0</td>\n      <td>1</td>\n      <td>0</td>\n      <td>0</td>\n      <td>...</td>\n      <td>0</td>\n      <td>1</td>\n      <td>0</td>\n      <td>0</td>\n      <td>0</td>\n      <td>0</td>\n      <td>0</td>\n      <td>0</td>\n      <td>0</td>\n      <td>0</td>\n    </tr>\n    <tr>\n      <th>9</th>\n      <td>1</td>\n      <td>0</td>\n      <td>1</td>\n      <td>0</td>\n      <td>0</td>\n      <td>0</td>\n      <td>0</td>\n      <td>1</td>\n      <td>0</td>\n      <td>1</td>\n      <td>...</td>\n      <td>0</td>\n      <td>0</td>\n      <td>0</td>\n      <td>0</td>\n      <td>0</td>\n      <td>0</td>\n      <td>0</td>\n      <td>0</td>\n      <td>1</td>\n      <td>0</td>\n    </tr>\n  </tbody>\n</table>\n<p>10 rows × 36 columns</p>\n</div>"
     },
     "metadata": {},
     "execution_count": 35
    }
   ],
   "source": [
    "pd.get_dummies(cat_df[['Customer_Type', 'P_Client',\n",
    "                       'Educational_Level', 'Marital_Status',\n",
    "                       'Prod_Sub_Category', 'Source',\n",
    "                       'Type_Of_Residence', 'Prod_Category']])[:10]"
   ]
  },
  {
   "cell_type": "code",
   "execution_count": 36,
   "metadata": {},
   "outputs": [],
   "source": [
    "clean_df1 = clean_df.join(pd.get_dummies(cat_df[['Customer_Type', 'P_Client',\n",
    "                                                'Educational_Level', 'Marital_Status',\n",
    "                                                'Prod_Sub_Category', 'Source',\n",
    "                                                'Type_Of_Residence', 'Prod_Category']]))"
   ]
  },
  {
   "cell_type": "markdown",
   "metadata": {},
   "source": [
    "## 1.2. Deal with years\n",
    "\n",
    "['BirthDate', 'Customer_Open_Date', 'Net_Annual_Income', 'Prod_Decision_Date', 'Prod_Closed_Date']\n",
    "\n",
    "- **Possible appraoches** \n",
    "    - Use duration\n",
    "        - `Birth_Duration = Now - BirthDate` ('BirthDate'): assuming there is a distribution of credibility, just started working -> less credit, worked for a long time but not close to retirement -> high credit) \n",
    "        - `Customer_Open_Duration = Now - Customer_Open_Date` ('Customer_Open_Date'): usually longer the history is, the more royal the customer is\n",
    "        - 'Prod_Closed_Date' - 'Prod_Decision_Date'\n",
    "            - length of the product?: if product closed \n",
    "            - `Prod_not_closed = (Prod_closed != nan)`: dummy variable if the product is closed 'Prod_not_closed' = 0 if closed\n",
    "            - `Prod_Decision_Duration = Now - Prod_Decision_Date`\n",
    "            - `Prod_Closed_Duration = Now - Prod_Closed_Date`: inf if not closed\n",
    "    - Set severals intervals \n",
    "        - 'Net_Annual_Income': \n"
   ]
  },
  {
   "cell_type": "code",
   "execution_count": 37,
   "metadata": {},
   "outputs": [
    {
     "output_type": "execute_result",
     "data": {
      "text/plain": "False"
     },
     "metadata": {},
     "execution_count": 37
    }
   ],
   "source": [
    "type(cat_df['Prod_Closed_Date'].tolist()[3]) == float\n",
    ""
   ]
  },
  {
   "cell_type": "code",
   "execution_count": 38,
   "metadata": {},
   "outputs": [],
   "source": [
    "# del clean_df1['BirthDate']\n",
    "# del clean_df1['Customer_Open_Date'] \n",
    "# del clean_df1['Prod_Decision_Date']\n",
    "# del clean_df1['Prod_closed']\n",
    ""
   ]
  },
  {
   "cell_type": "code",
   "execution_count": 39,
   "metadata": {},
   "outputs": [],
   "source": [
    "# clean_df1['Prod_Decision_Duration'].tolist()[1].days"
   ]
  },
  {
   "cell_type": "code",
   "execution_count": 40,
   "metadata": {},
   "outputs": [],
   "source": [
    "# duration: birth - now\n",
    "temp_list = [(datetime.now().date() - datetime.strptime(datetime_str, '%d/%m/%Y').date()).days for datetime_str in cat_df['BirthDate'].tolist()]\n",
    "clean_df1['Birth_Duration'] = temp_list\n",
    "\n",
    "# duration: Customer_Open_Date\n",
    "temp_list = [(datetime.now().date() - datetime.strptime(datetime_str, '%d/%m/%Y').date()).days for datetime_str in cat_df['Customer_Open_Date'].tolist()]\n",
    "clean_df1['Customer_Open_Duration'] = temp_list\n",
    "\n",
    "# dummy var: product closed = 1\n",
    "temp_list = [int(type(ele) != float) for ele in cat_df['Prod_Closed_Date'].tolist()]\n",
    "clean_df1['Prod_not_closed'] = temp_list\n",
    "\n",
    "# duration: Prod_Decision_Date\n",
    "temp_list = [(datetime.now().date() - datetime.strptime(datetime_str, '%d/%m/%Y').date()).days for datetime_str in cat_df['Prod_Decision_Date'].tolist()]\n",
    "clean_df1['Prod_Decision_Duration'] = temp_list\n",
    "\n",
    "\n",
    "\n",
    "# # duration: Prod_Closed_Date\n",
    "# temp_list = [int(type(ele) != float) for ele in cat_df['Prod_Closed_Date'].tolist()]\n",
    "# clean_df1['Prod_closed'] = temp_list\n",
    "\n",
    "\n",
    "\n",
    "\n",
    ""
   ]
  },
  {
   "cell_type": "code",
   "execution_count": 41,
   "metadata": {},
   "outputs": [
    {
     "output_type": "execute_result",
     "data": {
      "text/plain": "              1                              0   \n5363                1.0               1                              1   \n5364                1.0               1                              1   \n5365                2.0               1                              0   \n5366                1.0               2                              0   \n5367               10.0               1                              0   \n5368                3.0               1                              0   \n5369                1.0               1                              1   \n5370                1.0               1                              1   \n5371                7.0               1                              1   \n5372                3.0               1                              0   \n5373                1.0               1                              1   \n5374                1.0               1                              0   \n5375                1.0               1                              0   \n5376                1.0               1                              1   \n5377               30.0               1                              0   \n5378                1.0               1                              0   \n5379                1.0               1                              0   \n\n      Customer_Type_Non Existing Client  P_Client_NP_Client  \\\n0                                     1                   1   \n1                                     0                   0   \n2                                     1                   1   \n3                                     0                   1   \n4                                     1                   1   \n5                                     0                   1   \n6                                     1                   1   \n7                                     1                   1   \n8                                     0                   1   \n9                                     0                   1   \n10                                    1                   1   \n11                                    1                   1   \n12                                    0                   0   \n13                                    1                   1   \n14                                    1                   1   \n15                                    1                   1   \n16                                    1                   1   \n17                                    0                   1   \n18                                    1                   1   \n19                                    1                   1   \n20                                    1                   1   \n21                                    1                   1   \n22                                    1                   1   \n23                                    0                   0   \n24                                    1                   1   \n25                                    1                   1   \n26                                    1                   1   \n27                                    1                   1   \n28                                    0                   1   \n29                                    1                   1   \n...                                 ...                 ...   \n5350                                  1                   1   \n5351                                  1                   1   \n5352                                  0                   0   \n5353                                  0                   1   \n5354                                  0                   1   \n5355                                  0                   1   \n5356                                  1                   1   \n5357                                  0                   0   \n5358                                  1                   1   \n5359                                  0                   1   \n5360                                  1                   1   \n5361                                  1                   1   \n5362                                  1                   1   \n5363                                  0                   1   \n5364                                  0                   1   \n5365                                  1                   1   \n5366                                  1                   1   \n5367                                  1                   1   \n5368                                  1                   1   \n5369                                  0                   0   \n5370                                  0                   1   \n5371                                  0                   1   \n5372                                  1                   1   \n5373                                  0                   1   \n5374                                  1                   1   \n5375                                  1                   1   \n5376                                  0                   1   \n5377                                  1                   1   \n5378                                  1                   1   \n5379                                  1                   1   \n\n      P_Client_P_Client  ...  Prod_Category_H  Prod_Category_I  \\\n0                     0  ...                0                0   \n1                     1  ...                0                0   \n2                     0  ...                0                0   \n3                     0  ...                0                0   \n4                     0  ...                0                0   \n5                     0  ...                0                0   \n6                     0  ...                0                0   \n7                     0  ...                0                0   \n8                     0  ...                0                0   \n9                     0  ...                0                0   \n10                    0  ...                0                0   \n11                    0  ...                0                0   \n12                    1  ...                0                0   \n13                    0  ...                0                0   \n14                    0  ...                0                0   \n15                    0  ...                0                0   \n16                    0  ...                0                0   \n17                    0  ...                0                0   \n18                    0  ...                0                0   \n19                    0  ...                0                0   \n20                    0  ...                0                0   \n21                    0  ...                0                0   \n22                    0  ...                0                0   \n23                    1  ...                0                0   \n24                    0  ...                0                0   \n25                    0  ...                0                0   \n26                    0  ...                0                0   \n27                    0  ...                0                0   \n28                    0  ...                0                0   \n29                    0  ...                0                0   \n...                 ...  ...              ...              ...   \n5350                  0  ...                0                0   \n5351                  0  ...                0                0   \n5352                  1  ...                1                0   \n5353                  0  ...                0                0   \n5354                  0  ...                0                0   \n5355                  0  ...                0                0   \n5356                  0  ...                0                0   \n5357                  1  ...                0                0   \n5358                  0  ...                0                0   \n5359                  0  ...                0                0   \n5360                  0  ...                0                0   \n5361                  0  ...                0                0   \n5362                  0  ...                0                0   \n5363                  0  ...                0                0   \n5364                  0  ...                0                0   \n5365                  0  ...                0                0   \n5366                  0  ...                0                0   \n5367                  0  ...                0                0   \n5368                  0  ...                0                0   \n5369                  1  ...                0                0   \n5370                  0  ...                0                0   \n5371                  0  ...                0                0   \n5372                  0  ...                0                0   \n5373                  0  ...                0                0   \n5374                  0  ...                0                0   \n5375                  0  ...                0                0   \n5376                  0  ...                0                0   \n5377                  0  ...                0                0   \n5378                  0  ...                0                0   \n5379                  0  ...                0                0   \n\n      Prod_Category_J  Prod_Category_K  Prod_Category_L  Prod_Category_M  \\\n0                   0                0                0                0   \n1                   0                0                0                0   \n2                   0                0                0                0   \n3                   0                0                1                0   \n4                   0                0                0                0   \n5                   0                0                0                0   \n6                   0                0                0                0   \n7                   0                0                0                0   \n8                   0                0                0                0   \n9                   0                0                1                0   \n10                  0                0                0                0   \n11                  0                0                0                0   \n12                  0                0                0                0   \n13                  0                0                0                0   \n14                  0                0                0                0   \n15                  0                0                0                0   \n16                  0                0                0                0   \n17                  0                0                0                0   \n18                  0                0                0                0   \n19                  0                0                0                0   \n20                  0                0                0                0   \n21                  0                1                0                0   \n22                  0                1                0                0   \n23                  0                0                0                0   \n24                  0                0                0                0   \n25                  0                0                0                0   \n26                  0                0                0                0   \n27                  0                0                0                0   \n28                  0                0                0                0   \n29                  0                0                0                0   \n...               ...              ...              ...              ...   \n5350                0                0                0                0   \n5351                0                0                0                0   \n5352                0                0                0                0   \n5353                0                0                0                0   \n5354                1                0                0                0   \n5355                0                0                0                0   \n5356                0                0                0                0   \n5357                0                0                0                0   \n5358                0                0                0                0   \n5359                0                0                0                0   \n5360                0                0                0                0   \n5361                0                0                0                0   \n5362                0                0                0                0   \n5363                0                0                0                0   \n5364                0                0                0                0   \n5365                0                0                0                0   \n5366                0                0                0                0   \n5367                0                0                0                0   \n5368                0                0                0                0   \n5369                0                0                0                0   \n5370                0                0                0                0   \n5371                0                0                0                0   \n5372                0                0                0                0   \n5373                0                0                1                0   \n5374                0                0                0                0   \n5375                0                0                0                0   \n5376                0                0                1                0   \n5377                0                0                0                0   \n5378                0                0                0                0   \n5379                0                0                0                0   \n\n      Birth_Duration  Customer_Open_Duration  Prod_not_closed  \\\n0              15586                    2978                0   \n1              16737                    4082                0   \n2              16955                    2928                0   \n3              13790                    3150                1   \n4              24341                    3012                0   \n5              13551                    3129                0   \n6              14807                    3189                0   \n7              24294                    2920                1   \n8              16841                    6988                0   \n9              20875                    3270                1   \n10             12036                    3041                0   \n11             22116                    3126                0   \n12             14259                    4728                0   \n13             11954                    2927                0   \n14             16900                    3070                0   \n15             18565                    3038                0   \n16             16840                    3007                0   \n17             11887                    3423                0   \n18             13797                    3010                1   \n19             17917                    3224                0   \n20             25819                    3045                0   \n21             12003                    3186                0   \n22             12882                    2935                1   \n23             16933                    4740                0   \n24             21605                    3186                0   \n25             26362                    2969                0   \n26             17398                    3214                0   \n27             11091                    3182                0   \n28             19860                    3742                0   \n29             24211                    2977                0   \n...              ...                     ...              ...   \n5350           20302                    3199                0   \n5351           13407                    3213                0   \n5352           13562                    4265                0   \n5353           14445                    4014                0   \n5354           15390                    5439                0   \n5355           18853                    5483                0   \n5356           19975                    3159                0   \n5357           21913                    3301                0   \n5358           23897                    3168                0   \n5359           20273                    8355                0   \n5360           12365                    3102                0   \n5361           23201                    3004                0   \n5362           15055                    3220                0   \n5363           21736                    4046                0   \n5364           26075                    8873                0   \n5365           14369                    3186                0   \n5366           20977                    3139                1   \n5367           20230                    2965                0   \n5368           15638                    2977                0   \n5369           12259                    3690                0   \n5370           25130                    5091                0   \n5371           16750                    3090                1   \n5372           22209                    2968                0   \n5373           22341                    3172                0   \n5374           13800                    3125                0   \n5375           16071                    3095                0   \n5376           13832                    3214                1   \n5377           25375                    3160                1   \n5378           13401                    3007                0   \n5379           13834                    3098                0   \n\n      Prod_Decision_Duration  \n0                       2977  \n1                       3206  \n2                       2927  \n3                       3137  \n4                       3011  \n5                       3110  \n6                       3178  \n7                       2919  \n8                       2929  \n9                       3264  \n10                      3013  \n11                      3112  \n12                      2979  \n13                      2926  \n14                      3066  \n15                      3033  \n16                      2998  \n17                      3257  \n18                      3007  \n19                      3221  \n20                      3024  \n21                      3166  \n22                      2920  \n23                      3085  \n24                      3182  \n25                      2968  \n26                      3208  \n27                      3178  \n28                      3207  \n29                      2976  \n...                      ...  \n5350                    3164  \n5351                    3210  \n5352                    3116  \n5353                    2982  \n5354                    3207  \n5355                    2909  \n5356                    3152  \n5357                    2970  \n5358                    3167  \n5359                    2942  \n5360                    3094  \n5361                    3003  \n5362                    3220  \n5363                    3039  \n5364                    2923  \n5365                    3182  \n5366                    3138  \n5367                    2964  \n5368                    2976  \n5369                    3185  \n5370                    2971  \n5371                    3061  \n5372                    2965  \n5373                    3165  \n5374                    3122  \n5375                    3058  \n5376                    3195  \n5377                    3159  \n5378                    3003  \n5379                    3090  \n\n[5380 rows x 46 columns]",
      "text/html": "<div>\n<style scoped>\n    .dataframe tbody tr th:only-of-type {\n        vertical-align: middle;\n    }\n\n    .dataframe tbody tr th {\n        vertical-align: top;\n    }\n\n    .dataframe thead th {\n        text-align: right;\n    }\n</style>\n<table border=\"1\" class=\"dataframe\">\n  <thead>\n    <tr style=\"text-align: right;\">\n      <th></th>\n      <th>Id_Customer</th>\n      <th>Y</th>\n      <th>Number_Of_Dependant</th>\n      <th>Years_At_Residence</th>\n      <th>Years_At_Business</th>\n      <th>Nb_Of_Products</th>\n      <th>Customer_Type_Existing Client</th>\n      <th>Customer_Type_Non Existing Client</th>\n      <th>P_Client_NP_Client</th>\n      <th>P_Client_P_Client</th>\n      <th>...</th>\n      <th>Prod_Category_H</th>\n      <th>Prod_Category_I</th>\n      <th>Prod_Category_J</th>\n      <th>Prod_Category_K</th>\n      <th>Prod_Category_L</th>\n      <th>Prod_Category_M</th>\n      <th>Birth_Duration</th>\n      <th>Customer_Open_Duration</th>\n      <th>Prod_not_closed</th>\n      <th>Prod_Decision_Duration</th>\n    </tr>\n  </thead>\n  <tbody>\n    <tr>\n      <th>0</th>\n      <td>7440</td>\n      <td>0</td>\n      <td>3.0</td>\n      <td>1</td>\n      <td>1.0</td>\n      <td>1</td>\n      <td>0</td>\n      <td>1</td>\n      <td>1</td>\n      <td>0</td>\n      <td>...</td>\n      <td>0</td>\n      <td>0</td>\n      <td>0</td>\n      <td>0</td>\n      <td>0</td>\n      <td>0</td>\n      <td>15586</td>\n      <td>2978</td>\n      <td>0</td>\n      <td>2977</td>\n    </tr>\n    <tr>\n      <th>1</th>\n      <td>573</td>\n      <td>0</td>\n      <td>0.0</td>\n      <td>12</td>\n      <td>2.0</td>\n      <td>1</td>\n      <td>1</td>\n      <td>0</td>\n      <td>0</td>\n      <td>1</td>\n      <td>...</td>\n      <td>0</td>\n      <td>0</td>\n      <td>0</td>\n      <td>0</td>\n      <td>0</td>\n      <td>0</td>\n      <td>16737</td>\n      <td>4082</td>\n      <td>0</td>\n      <td>3206</td>\n    </tr>\n    <tr>\n      <th>2</th>\n      <td>9194</td>\n      <td>0</td>\n      <td>2.0</td>\n      <td>10</td>\n      <td>1.0</td>\n      <td>1</td>\n      <td>0</td>\n      <td>1</td>\n      <td>1</td>\n      <td>0</td>\n      <td>...</td>\n      <td>0</td>\n      <td>0</td>\n      <td>0</td>\n      <td>0</td>\n      <td>0</td>\n      <td>0</td>\n      <td>16955</td>\n      <td>2928</td>\n      <td>0</td>\n      <td>2927</td>\n    </tr>\n    <tr>\n      <th>3</th>\n      <td>3016</td>\n      <td>1</td>\n      <td>3.0</td>\n      <td>3</td>\n      <td>1.0</td>\n      <td>1</td>\n      <td>1</td>\n      <td>0</td>\n      <td>1</td>\n      <td>0</td>\n      <td>...</td>\n      <td>0</td>\n      <td>0</td>\n      <td>0</td>\n      <td>0</td>\n      <td>1</td>\n      <td>0</td>\n      <td>13790</td>\n      <td>3150</td>\n      <td>1</td>\n      <td>3137</td>\n    </tr>\n    <tr>\n      <th>4</th>\n      <td>6524</td>\n      <td>0</td>\n      <td>2.0</td>\n      <td>1</td>\n      <td>1.0</td>\n      <td>1</td>\n      <td>0</td>\n      <td>1</td>\n      <td>1</td>\n      <td>0</td>\n      <td>...</td>\n      <td>0</td>\n      <td>0</td>\n      <td>0</td>\n      <td>0</td>\n      <td>0</td>\n      <td>0</td>\n      <td>24341</td>\n      <td>3012</td>\n      <td>0</td>\n      <td>3011</td>\n    </tr>\n    <tr>\n      <th>5</th>\n      <td>3858</td>\n      <td>0</td>\n      <td>0.0</td>\n      <td>28</td>\n      <td>2.0</td>\n      <td>1</td>\n      <td>1</td>\n      <td>0</td>\n      <td>1</td>\n      <td>0</td>\n      <td>...</td>\n      <td>0</td>\n      <td>0</td>\n      <td>0</td>\n      <td>0</td>\n      <td>0</td>\n      <td>0</td>\n      <td>13551</td>\n      <td>3129</td>\n      <td>0</td>\n      <td>3110</td>\n    </tr>\n    <tr>\n      <th>6</th>\n      <td>2189</td>\n      <td>0</td>\n      <td>0.0</td>\n      <td>10</td>\n      <td>1.0</td>\n      <td>1</td>\n      <td>0</td>\n      <td>1</td>\n      <td>1</td>\n      <td>0</td>\n      <td>...</td>\n      <td>0</td>\n      <td>0</td>\n      <td>0</td>\n      <td>0</td>\n      <td>0</td>\n      <td>0</td>\n      <td>14807</td>\n      <td>3189</td>\n      <td>0</td>\n      <td>3178</td>\n    </tr>\n    <tr>\n      <th>7</th>\n      <td>9338</td>\n      <td>0</td>\n      <td>0.0</td>\n      <td>15</td>\n      <td>1.0</td>\n      <td>1</td>\n      <td>0</td>\n      <td>1</td>\n      <td>1</td>\n      <td>0</td>\n      <td>...</td>\n      <td>0</td>\n      <td>0</td>\n      <td>0</td>\n      <td>0</td>\n      <td>0</td>\n      <td>0</td>\n      <td>24294</td>\n      <td>2920</td>\n      <td>1</td>\n      <td>2919</td>\n    </tr>\n    <tr>\n      <th>8</th>\n      <td>9578</td>\n      <td>0</td>\n      <td>0.0</td>\n      <td>0</td>\n      <td>3.0</td>\n      <td>1</td>\n      <td>1</td>\n      <td>0</td>\n      <td>1</td>\n      <td>0</td>\n      <td>...</td>\n      <td>0</td>\n      <td>0</td>\n      <td>0</td>\n      <td>0</td>\n      <td>0</td>\n      <td>0</td>\n      <td>16841</td>\n      <td>6988</td>\n      <td>0</td>\n      <td>2929</td>\n    </tr>\n    <tr>\n      <th>9</th>\n      <td>173</td>\n      <td>1</td>\n      <td>4.0</td>\n      <td>35</td>\n      <td>2.0</td>\n      <td>1</td>\n      <td>1</td>\n      <td>0</td>\n      <td>1</td>\n      <td>0</td>\n      <td>...</td>\n      <td>0</td>\n      <td>0</td>\n      <td>0</td>\n      <td>0</td>\n      <td>1</td>\n      <td>0</td>\n      <td>20875</td>\n      <td>3270</td>\n      <td>1</td>\n      <td>3264</td>\n    </tr>\n    <tr>\n      <th>10</th>\n      <td>6439</td>\n      <td>0</td>\n      <td>0.0</td>\n      <td>10</td>\n      <td>3.0</td>\n      <td>1</td>\n      <td>0</td>\n      <td>1</td>\n      <td>1</td>\n      <td>0</td>\n      <td>...</td>\n      <td>0</td>\n      <td>0</td>\n      <td>0</td>\n      <td>0</td>\n      <td>0</td>\n      <td>0</td>\n      <td>12036</td>\n      <td>3041</td>\n      <td>0</td>\n      <td>3013</td>\n    </tr>\n    <tr>\n      <th>11</th>\n      <td>3921</td>\n      <td>0</td>\n      <td>0.0</td>\n      <td>10</td>\n      <td>2.0</td>\n      <td>2</td>\n      <td>0</td>\n      <td>1</td>\n      <td>1</td>\n      <td>0</td>\n      <td>...</td>\n      <td>0</td>\n      <td>0</td>\n      <td>0</td>\n      <td>0</td>\n      <td>0</td>\n      <td>0</td>\n      <td>22116</td>\n      <td>3126</td>\n      <td>0</td>\n      <td>3112</td>\n    </tr>\n    <tr>\n      <th>12</th>\n      <td>6961</td>\n      <td>0</td>\n      <td>0.0</td>\n      <td>2</td>\n      <td>4.0</td>\n      <td>1</td>\n      <td>1</td>\n      <td>0</td>\n      <td>0</td>\n      <td>1</td>\n      <td>...</td>\n      <td>0</td>\n      <td>0</td>\n      <td>0</td>\n      <td>0</td>\n      <td>0</td>\n      <td>0</td>\n      <td>14259</td>\n      <td>4728</td>\n      <td>0</td>\n      <td>2979</td>\n    </tr>\n    <tr>\n      <th>13</th>\n      <td>9242</td>\n      <td>0</td>\n      <td>0.0</td>\n      <td>15</td>\n      <td>1.0</td>\n      <td>1</td>\n      <td>0</td>\n      <td>1</td>\n      <td>1</td>\n      <td>0</td>\n      <td>...</td>\n      <td>0</td>\n      <td>0</td>\n      <td>0</td>\n      <td>0</td>\n      <td>0</td>\n      <td>0</td>\n      <td>11954</td>\n      <td>2927</td>\n      <td>0</td>\n      <td>2926</td>\n    </tr>\n    <tr>\n      <th>14</th>\n      <td>5086</td>\n      <td>0</td>\n      <td>0.0</td>\n      <td>1</td>\n      <td>1.0</td>\n      <td>1</td>\n      <td>0</td>\n      <td>1</td>\n      <td>1</td>\n      <td>0</td>\n      <td>...</td>\n      <td>0</td>\n      <td>0</td>\n      <td>0</td>\n      <td>0</td>\n      <td>0</td>\n      <td>0</td>\n      <td>16900</td>\n      <td>3070</td>\n      <td>0</td>\n      <td>3066</td>\n    </tr>\n    <tr>\n      <th>15</th>\n      <td>5841</td>\n      <td>0</td>\n      <td>0.0</td>\n      <td>10</td>\n      <td>1.0</td>\n      <td>1</td>\n      <td>0</td>\n      <td>1</td>\n      <td>1</td>\n      <td>0</td>\n      <td>...</td>\n      <td>0</td>\n      <td>0</td>\n      <td>0</td>\n      <td>0</td>\n      <td>0</td>\n      <td>0</td>\n      <td>18565</td>\n      <td>3038</td>\n      <td>0</td>\n      <td>3033</td>\n    </tr>\n    <tr>\n      <th>16</th>\n      <td>6825</td>\n      <td>0</td>\n      <td>0.0</td>\n      <td>15</td>\n      <td>1.0</td>\n      <td>1</td>\n      <td>0</td>\n      <td>1</td>\n      <td>1</td>\n      <td>0</td>\n      <td>...</td>\n      <td>0</td>\n      <td>0</td>\n      <td>0</td>\n      <td>0</td>\n      <td>0</td>\n      <td>0</td>\n      <td>16840</td>\n      <td>3007</td>\n      <td>0</td>\n      <td>2998</td>\n    </tr>\n    <tr>\n      <th>17</th>\n      <td>141</td>\n      <td>0</td>\n      <td>0.0</td>\n      <td>10</td>\n      <td>1.0</td>\n      <td>1</td>\n      <td>1</td>\n      <td>0</td>\n      <td>1</td>\n      <td>0</td>\n      <td>...</td>\n      <td>0</td>\n      <td>0</td>\n      <td>0</td>\n      <td>0</td>\n      <td>0</td>\n      <td>0</td>\n      <td>11887</td>\n      <td>3423</td>\n      <td>0</td>\n      <td>3257</td>\n    </tr>\n    <tr>\n      <th>18</th>\n      <td>6582</td>\n      <td>1</td>\n      <td>2.0</td>\n      <td>1</td>\n      <td>1.0</td>\n      <td>1</td>\n      <td>0</td>\n      <td>1</td>\n      <td>1</td>\n      <td>0</td>\n      <td>...</td>\n      <td>0</td>\n      <td>0</td>\n      <td>0</td>\n      <td>0</td>\n      <td>0</td>\n      <td>0</td>\n      <td>13797</td>\n      <td>3010</td>\n      <td>1</td>\n      <td>3007</td>\n    </tr>\n    <tr>\n      <th>19</th>\n      <td>882</td>\n      <td>0</td>\n      <td>3.0</td>\n      <td>8</td>\n      <td>2.0</td>\n      <td>1</td>\n      <td>0</td>\n      <td>1</td>\n      <td>1</td>\n      <td>0</td>\n      <td>...</td>\n      <td>0</td>\n      <td>0</td>\n      <td>0</td>\n      <td>0</td>\n      <td>0</td>\n      <td>0</td>\n      <td>17917</td>\n      <td>3224</td>\n      <td>0</td>\n      <td>3221</td>\n    </tr>\n    <tr>\n      <th>20</th>\n      <td>6225</td>\n      <td>0</td>\n      <td>0.0</td>\n      <td>15</td>\n      <td>1.0</td>\n      <td>1</td>\n      <td>0</td>\n      <td>1</td>\n      <td>1</td>\n      <td>0</td>\n      <td>...</td>\n      <td>0</td>\n      <td>0</td>\n      <td>0</td>\n      <td>0</td>\n      <td>0</td>\n      <td>0</td>\n      <td>25819</td>\n      <td>3045</td>\n      <td>0</td>\n      <td>3024</td>\n    </tr>\n    <tr>\n      <th>21</th>\n      <td>2378</td>\n      <td>0</td>\n      <td>0.0</td>\n      <td>12</td>\n      <td>1.0</td>\n      <td>1</td>\n      <td>0</td>\n      <td>1</td>\n      <td>1</td>\n      <td>0</td>\n      <td>...</td>\n      <td>0</td>\n      <td>0</td>\n      <td>0</td>\n      <td>1</td>\n      <td>0</td>\n      <td>0</td>\n      <td>12003</td>\n      <td>3186</td>\n      <td>0</td>\n      <td>3166</td>\n    </tr>\n    <tr>\n      <th>22</th>\n      <td>9350</td>\n      <td>0</td>\n      <td>0.0</td>\n      <td>27</td>\n      <td>6.0</td>\n      <td>1</td>\n      <td>0</td>\n      <td>1</td>\n      <td>1</td>\n      <td>0</td>\n      <td>...</td>\n      <td>0</td>\n      <td>0</td>\n      <td>0</td>\n      <td>1</td>\n      <td>0</td>\n      <td>0</td>\n      <td>12882</td>\n      <td>2935</td>\n      <td>1</td>\n      <td>2920</td>\n    </tr>\n    <tr>\n      <th>23</th>\n      <td>4537</td>\n      <td>0</td>\n      <td>3.0</td>\n      <td>10</td>\n      <td>3.0</td>\n      <td>1</td>\n      <td>1</td>\n      <td>0</td>\n      <td>0</td>\n      <td>1</td>\n      <td>...</td>\n      <td>0</td>\n      <td>0</td>\n      <td>0</td>\n      <td>0</td>\n      <td>0</td>\n      <td>0</td>\n      <td>16933</td>\n      <td>4740</td>\n      <td>0</td>\n      <td>3085</td>\n    </tr>\n    <tr>\n      <th>24</th>\n      <td>1756</td>\n      <td>0</td>\n      <td>2.0</td>\n      <td>2</td>\n      <td>1.0</td>\n      <td>1</td>\n      <td>0</td>\n      <td>1</td>\n      <td>1</td>\n      <td>0</td>\n      <td>...</td>\n      <td>0</td>\n      <td>0</td>\n      <td>0</td>\n      <td>0</td>\n      <td>0</td>\n      <td>0</td>\n      <td>21605</td>\n      <td>3186</td>\n      <td>0</td>\n      <td>3182</td>\n    </tr>\n    <tr>\n      <th>25</th>\n      <td>7670</td>\n      <td>0</td>\n      <td>0.0</td>\n      <td>1</td>\n      <td>1.0</td>\n      <td>1</td>\n      <td>0</td>\n      <td>1</td>\n      <td>1</td>\n      <td>0</td>\n      <td>...</td>\n      <td>0</td>\n      <td>0</td>\n      <td>0</td>\n      <td>0</td>\n      <td>0</td>\n      <td>0</td>\n      <td>26362</td>\n      <td>2969</td>\n      <td>0</td>\n      <td>2968</td>\n    </tr>\n    <tr>\n      <th>26</th>\n      <td>1051</td>\n      <td>0</td>\n      <td>0.0</td>\n      <td>1</td>\n      <td>1.0</td>\n      <td>1</td>\n      <td>0</td>\n      <td>1</td>\n      <td>1</td>\n      <td>0</td>\n      <td>...</td>\n      <td>0</td>\n      <td>0</td>\n      <td>0</td>\n      <td>0</td>\n      <td>0</td>\n      <td>0</td>\n      <td>17398</td>\n      <td>3214</td>\n      <td>0</td>\n      <td>3208</td>\n    </tr>\n    <tr>\n      <th>27</th>\n      <td>2234</td>\n      <td>0</td>\n      <td>0.0</td>\n      <td>4</td>\n      <td>4.0</td>\n      <td>1</td>\n      <td>0</td>\n      <td>1</td>\n      <td>1</td>\n      <td>0</td>\n      <td>...</td>\n      <td>0</td>\n      <td>0</td>\n      <td>0</td>\n      <td>0</td>\n      <td>0</td>\n      <td>0</td>\n      <td>11091</td>\n      <td>3182</td>\n      <td>0</td>\n      <td>3178</td>\n    </tr>\n    <tr>\n      <th>28</th>\n      <td>620</td>\n      <td>0</td>\n      <td>2.0</td>\n      <td>10</td>\n      <td>2.0</td>\n      <td>1</td>\n      <td>1</td>\n      <td>0</td>\n      <td>1</td>\n      <td>0</td>\n      <td>...</td>\n      <td>0</td>\n      <td>0</td>\n      <td>0</td>\n      <td>0</td>\n      <td>0</td>\n      <td>0</td>\n      <td>19860</td>\n      <td>3742</td>\n      <td>0</td>\n      <td>3207</td>\n    </tr>\n    <tr>\n      <th>29</th>\n      <td>8076</td>\n      <td>0</td>\n      <td>0.0</td>\n      <td>22</td>\n      <td>2.0</td>\n      <td>1</td>\n      <td>0</td>\n      <td>1</td>\n      <td>1</td>\n      <td>0</td>\n      <td>...</td>\n      <td>0</td>\n      <td>0</td>\n      <td>0</td>\n      <td>0</td>\n      <td>0</td>\n      <td>0</td>\n      <td>24211</td>\n      <td>2977</td>\n      <td>0</td>\n      <td>2976</td>\n    </tr>\n    <tr>\n      <th>...</th>\n      <td>...</td>\n      <td>...</td>\n      <td>...</td>\n      <td>...</td>\n      <td>...</td>\n      <td>...</td>\n      <td>...</td>\n      <td>...</td>\n      <td>...</td>\n      <td>...</td>\n      <td>...</td>\n      <td>...</td>\n      <td>...</td>\n      <td>...</td>\n      <td>...</td>\n      <td>...</td>\n      <td>...</td>\n      <td>...</td>\n      <td>...</td>\n      <td>...</td>\n      <td>...</td>\n    </tr>\n    <tr>\n      <th>5350</th>\n      <td>2429</td>\n      <td>0</td>\n      <td>2.0</td>\n      <td>20</td>\n      <td>21.0</td>\n      <td>1</td>\n      <td>0</td>\n      <td>1</td>\n      <td>1</td>\n      <td>0</td>\n      <td>...</td>\n      <td>0</td>\n      <td>0</td>\n      <td>0</td>\n      <td>0</td>\n      <td>0</td>\n      <td>0</td>\n      <td>20302</td>\n      <td>3199</td>\n      <td>0</td>\n      <td>3164</td>\n    </tr>\n    <tr>\n      <th>5351</th>\n      <td>1073</td>\n      <td>0</td>\n      <td>0.0</td>\n      <td>20</td>\n      <td>2.0</td>\n      <td>1</td>\n      <td>0</td>\n      <td>1</td>\n      <td>1</td>\n      <td>0</td>\n      <td>...</td>\n      <td>0</td>\n      <td>0</td>\n      <td>0</td>\n      <td>0</td>\n      <td>0</td>\n      <td>0</td>\n      <td>13407</td>\n      <td>3213</td>\n      <td>0</td>\n      <td>3210</td>\n    </tr>\n    <tr>\n      <th>5352</th>\n      <td>3660</td>\n      <td>0</td>\n      <td>1.0</td>\n      <td>29</td>\n      <td>3.0</td>\n      <td>1</td>\n      <td>1</td>\n      <td>0</td>\n      <td>0</td>\n      <td>1</td>\n      <td>...</td>\n      <td>1</td>\n      <td>0</td>\n      <td>0</td>\n      <td>0</td>\n      <td>0</td>\n      <td>0</td>\n      <td>13562</td>\n      <td>4265</td>\n      <td>0</td>\n      <td>3116</td>\n    </tr>\n    <tr>\n      <th>5353</th>\n      <td>7025</td>\n      <td>0</td>\n      <td>3.0</td>\n      <td>22</td>\n      <td>2.0</td>\n      <td>1</td>\n      <td>1</td>\n      <td>0</td>\n      <td>1</td>\n      <td>0</td>\n      <td>...</td>\n      <td>0</td>\n      <td>0</td>\n      <td>0</td>\n      <td>0</td>\n      <td>0</td>\n      <td>0</td>\n      <td>14445</td>\n      <td>4014</td>\n      <td>0</td>\n      <td>2982</td>\n    </tr>\n    <tr>\n      <th>5354</th>\n      <td>505</td>\n      <td>0</td>\n      <td>1.0</td>\n      <td>20</td>\n      <td>5.0</td>\n      <td>1</td>\n      <td>1</td>\n      <td>0</td>\n      <td>1</td>\n      <td>0</td>\n      <td>...</td>\n      <td>0</td>\n      <td>0</td>\n      <td>1</td>\n      <td>0</td>\n      <td>0</td>\n      <td>0</td>\n      <td>15390</td>\n      <td>5439</td>\n      <td>0</td>\n      <td>3207</td>\n    </tr>\n    <tr>\n      <th>5355</th>\n      <td>8827</td>\n      <td>0</td>\n      <td>1.0</td>\n      <td>20</td>\n      <td>10.0</td>\n      <td>1</td>\n      <td>1</td>\n      <td>0</td>\n      <td>1</td>\n      <td>0</td>\n      <td>...</td>\n      <td>0</td>\n      <td>0</td>\n      <td>0</td>\n      <td>0</td>\n      <td>0</td>\n      <td>0</td>\n      <td>18853</td>\n      <td>5483</td>\n      <td>0</td>\n      <td>2909</td>\n    </tr>\n    <tr>\n      <th>5356</th>\n      <td>2605</td>\n      <td>0</td>\n      <td>5.0</td>\n      <td>1</td>\n      <td>1.0</td>\n      <td>1</td>\n      <td>0</td>\n      <td>1</td>\n      <td>1</td>\n      <td>0</td>\n      <td>...</td>\n      <td>0</td>\n      <td>0</td>\n      <td>0</td>\n      <td>0</td>\n      <td>0</td>\n      <td>0</td>\n      <td>19975</td>\n      <td>3159</td>\n      <td>0</td>\n      <td>3152</td>\n    </tr>\n    <tr>\n      <th>5357</th>\n      <td>7092</td>\n      <td>0</td>\n      <td>4.0</td>\n      <td>10</td>\n      <td>1.0</td>\n      <td>1</td>\n      <td>1</td>\n      <td>0</td>\n      <td>0</td>\n      <td>1</td>\n      <td>...</td>\n      <td>0</td>\n      <td>0</td>\n      <td>0</td>\n      <td>0</td>\n      <td>0</td>\n      <td>0</td>\n      <td>21913</td>\n      <td>3301</td>\n      <td>0</td>\n      <td>2970</td>\n    </tr>\n    <tr>\n      <th>5358</th>\n      <td>2355</td>\n      <td>0</td>\n      <td>0.0</td>\n      <td>28</td>\n      <td>1.0</td>\n      <td>1</td>\n      <td>0</td>\n      <td>1</td>\n      <td>1</td>\n      <td>0</td>\n      <td>...</td>\n      <td>0</td>\n      <td>0</td>\n      <td>0</td>\n      <td>0</td>\n      <td>0</td>\n      <td>0</td>\n      <td>23897</td>\n      <td>3168</td>\n      <td>0</td>\n      <td>3167</td>\n    </tr>\n    <tr>\n      <th>5359</th>\n      <td>8764</td>\n      <td>0</td>\n      <td>0.0</td>\n      <td>9</td>\n      <td>5.0</td>\n      <td>1</td>\n      <td>1</td>\n      <td>0</td>\n      <td>1</td>\n      <td>0</td>\n      <td>...</td>\n      <td>0</td>\n      <td>0</td>\n      <td>0</td>\n      <td>0</td>\n      <td>0</td>\n      <td>0</td>\n      <td>20273</td>\n      <td>8355</td>\n      <td>0</td>\n      <td>2942</td>\n    </tr>\n    <tr>\n      <th>5360</th>\n      <td>4157</td>\n      <td>0</td>\n      <td>0.0</td>\n      <td>1</td>\n      <td>1.0</td>\n      <td>1</td>\n      <td>0</td>\n      <td>1</td>\n      <td>1</td>\n      <td>0</td>\n      <td>...</td>\n      <td>0</td>\n      <td>0</td>\n      <td>0</td>\n      <td>0</td>\n      <td>0</td>\n      <td>0</td>\n      <td>12365</td>\n      <td>3102</td>\n      <td>0</td>\n      <td>3094</td>\n    </tr>\n    <tr>\n      <th>5361</th>\n      <td>6717</td>\n      <td>0</td>\n      <td>0.0</td>\n      <td>15</td>\n      <td>1.0</td>\n      <td>1</td>\n      <td>0</td>\n      <td>1</td>\n      <td>1</td>\n      <td>0</td>\n      <td>...</td>\n      <td>0</td>\n      <td>0</td>\n      <td>0</td>\n      <td>0</td>\n      <td>0</td>\n      <td>0</td>\n      <td>23201</td>\n      <td>3004</td>\n      <td>0</td>\n      <td>3003</td>\n    </tr>\n    <tr>\n      <th>5362</th>\n      <td>924</td>\n      <td>0</td>\n      <td>0.0</td>\n      <td>1</td>\n      <td>1.0</td>\n      <td>1</td>\n      <td>0</td>\n      <td>1</td>\n      <td>1</td>\n      <td>0</td>\n      <td>...</td>\n      <td>0</td>\n      <td>0</td>\n      <td>0</td>\n      <td>0</td>\n      <td>0</td>\n      <td>0</td>\n      <td>15055</td>\n      <td>3220</td>\n      <td>0</td>\n      <td>3220</td>\n    </tr>\n    <tr>\n      <th>5363</th>\n      <td>5187</td>\n      <td>0</td>\n      <td>0.0</td>\n      <td>15</td>\n      <td>1.0</td>\n      <td>1</td>\n      <td>1</td>\n      <td>0</td>\n      <td>1</td>\n      <td>0</td>\n      <td>...</td>\n      <td>0</td>\n      <td>0</td>\n      <td>0</td>\n      <td>0</td>\n      <td>0</td>\n      <td>0</td>\n      <td>21736</td>\n      <td>4046</td>\n      <td>0</td>\n      <td>3039</td>\n    </tr>\n    <tr>\n      <th>5364</th>\n      <td>9565</td>\n      <td>0</td>\n      <td>2.0</td>\n      <td>30</td>\n      <td>1.0</td>\n      <td>1</td>\n      <td>1</td>\n      <td>0</td>\n      <td>1</td>\n      <td>0</td>\n      <td>...</td>\n      <td>0</td>\n      <td>0</td>\n      <td>0</td>\n      <td>0</td>\n      <td>0</td>\n      <td>0</td>\n      <td>26075</td>\n      <td>8873</td>\n      <td>0</td>\n      <td>2923</td>\n    </tr>\n    <tr>\n      <th>5365</th>\n      <td>1757</td>\n      <td>0</td>\n      <td>0.0</td>\n      <td>10</td>\n      <td>2.0</td>\n      <td>1</td>\n      <td>0</td>\n      <td>1</td>\n      <td>1</td>\n      <td>0</td>\n      <td>...</td>\n      <td>0</td>\n      <td>0</td>\n      <td>0</td>\n      <td>0</td>\n      <td>0</td>\n      <td>0</td>\n      <td>14369</td>\n      <td>3186</td>\n      <td>0</td>\n      <td>3182</td>\n    </tr>\n    <tr>\n      <th>5366</th>\n      <td>3055</td>\n      <td>0</td>\n      <td>0.0</td>\n      <td>1</td>\n      <td>1.0</td>\n      <td>2</td>\n      <td>0</td>\n      <td>1</td>\n      <td>1</td>\n      <td>0</td>\n      <td>...</td>\n      <td>0</td>\n      <td>0</td>\n      <td>0</td>\n      <td>0</td>\n      <td>0</td>\n      <td>0</td>\n      <td>20977</td>\n      <td>3139</td>\n      <td>1</td>\n      <td>3138</td>\n    </tr>\n    <tr>\n      <th>5367</th>\n      <td>7709</td>\n      <td>0</td>\n      <td>2.0</td>\n      <td>10</td>\n      <td>10.0</td>\n      <td>1</td>\n      <td>0</td>\n      <td>1</td>\n      <td>1</td>\n      <td>0</td>\n      <td>...</td>\n      <td>0</td>\n      <td>0</td>\n      <td>0</td>\n      <td>0</td>\n      <td>0</td>\n      <td>0</td>\n      <td>20230</td>\n      <td>2965</td>\n      <td>0</td>\n      <td>2964</td>\n    </tr>\n    <tr>\n      <th>5368</th>\n      <td>7463</td>\n      <td>0</td>\n      <td>1.0</td>\n      <td>10</td>\n      <td>3.0</td>\n      <td>1</td>\n      <td>0</td>\n      <td>1</td>\n      <td>1</td>\n      <td>0</td>\n      <td>...</td>\n      <td>0</td>\n      <td>0</td>\n      <td>0</td>\n      <td>0</td>\n      <td>0</td>\n      <td>0</td>\n      <td>15638</td>\n      <td>2977</td>\n      <td>0</td>\n      <td>2976</td>\n    </tr>\n    <tr>\n      <th>5369</th>\n      <td>1271</td>\n      <td>0</td>\n      <td>0.0</td>\n      <td>25</td>\n      <td>1.0</td>\n      <td>1</td>\n      <td>1</td>\n      <td>0</td>\n      <td>0</td>\n      <td>1</td>\n      <td>...</td>\n      <td>0</td>\n      <td>0</td>\n      <td>0</td>\n      <td>0</td>\n      <td>0</td>\n      <td>0</td>\n      <td>12259</td>\n      <td>3690</td>\n      <td>0</td>\n      <td>3185</td>\n    </tr>\n    <tr>\n      <th>5370</th>\n      <td>6941</td>\n      <td>0</td>\n      <td>0.0</td>\n      <td>15</td>\n      <td>1.0</td>\n      <td>1</td>\n      <td>1</td>\n      <td>0</td>\n      <td>1</td>\n      <td>0</td>\n      <td>...</td>\n      <td>0</td>\n      <td>0</td>\n      <td>0</td>\n      <td>0</td>\n      <td>0</td>\n      <td>0</td>\n      <td>25130</td>\n      <td>5091</td>\n      <td>0</td>\n      <td>2971</td>\n    </tr>\n    <tr>\n      <th>5371</th>\n      <td>4717</td>\n      <td>1</td>\n      <td>0.0</td>\n      <td>15</td>\n      <td>7.0</td>\n      <td>1</td>\n      <td>1</td>\n      <td>0</td>\n      <td>1</td>\n      <td>0</td>\n      <td>...</td>\n      <td>0</td>\n      <td>0</td>\n      <td>0</td>\n      <td>0</td>\n      <td>0</td>\n      <td>0</td>\n      <td>16750</td>\n      <td>3090</td>\n      <td>1</td>\n      <td>3061</td>\n    </tr>\n    <tr>\n      <th>5372</th>\n      <td>7692</td>\n      <td>0</td>\n      <td>0.0</td>\n      <td>11</td>\n      <td>3.0</td>\n      <td>1</td>\n      <td>0</td>\n      <td>1</td>\n      <td>1</td>\n      <td>0</td>\n      <td>...</td>\n      <td>0</td>\n      <td>0</td>\n      <td>0</td>\n      <td>0</td>\n      <td>0</td>\n      <td>0</td>\n      <td>22209</td>\n      <td>2968</td>\n      <td>0</td>\n      <td>2965</td>\n    </tr>\n    <tr>\n      <th>5373</th>\n      <td>2293</td>\n      <td>0</td>\n      <td>3.0</td>\n      <td>20</td>\n      <td>1.0</td>\n      <td>1</td>\n      <td>1</td>\n      <td>0</td>\n      <td>1</td>\n      <td>0</td>\n      <td>...</td>\n      <td>0</td>\n      <td>0</td>\n      <td>0</td>\n      <td>0</td>\n      <td>1</td>\n      <td>0</td>\n      <td>22341</td>\n      <td>3172</td>\n      <td>0</td>\n      <td>3165</td>\n    </tr>\n    <tr>\n      <th>5374</th>\n      <td>3349</td>\n      <td>0</td>\n      <td>0.0</td>\n      <td>1</td>\n      <td>1.0</td>\n      <td>1</td>\n      <td>0</td>\n      <td>1</td>\n      <td>1</td>\n      <td>0</td>\n      <td>...</td>\n      <td>0</td>\n      <td>0</td>\n      <td>0</td>\n      <td>0</td>\n      <td>0</td>\n      <td>0</td>\n      <td>13800</td>\n      <td>3125</td>\n      <td>0</td>\n      <td>3122</td>\n    </tr>\n    <tr>\n      <th>5375</th>\n      <td>5389</td>\n      <td>0</td>\n      <td>2.0</td>\n      <td>1</td>\n      <td>1.0</td>\n      <td>1</td>\n      <td>0</td>\n      <td>1</td>\n      <td>1</td>\n      <td>0</td>\n      <td>...</td>\n      <td>0</td>\n      <td>0</td>\n      <td>0</td>\n      <td>0</td>\n      <td>0</td>\n      <td>0</td>\n      <td>16071</td>\n      <td>3095</td>\n      <td>0</td>\n      <td>3058</td>\n    </tr>\n    <tr>\n      <th>5376</th>\n      <td>1358</td>\n      <td>1</td>\n      <td>3.0</td>\n      <td>15</td>\n      <td>1.0</td>\n      <td>1</td>\n      <td>1</td>\n      <td>0</td>\n      <td>1</td>\n      <td>0</td>\n      <td>...</td>\n      <td>0</td>\n      <td>0</td>\n      <td>0</td>\n      <td>0</td>\n      <td>1</td>\n      <td>0</td>\n      <td>13832</td>\n      <td>3214</td>\n      <td>1</td>\n      <td>3195</td>\n    </tr>\n    <tr>\n      <th>5377</th>\n      <td>2502</td>\n      <td>0</td>\n      <td>0.0</td>\n      <td>14</td>\n      <td>30.0</td>\n      <td>1</td>\n      <td>0</td>\n      <td>1</td>\n      <td>1</td>\n      <td>0</td>\n      <td>...</td>\n      <td>0</td>\n      <td>0</td>\n      <td>0</td>\n      <td>0</td>\n      <td>0</td>\n      <td>0</td>\n      <td>25375</td>\n      <td>3160</td>\n      <td>1</td>\n      <td>3159</td>\n    </tr>\n    <tr>\n      <th>5378</th>\n      <td>6712</td>\n      <td>0</td>\n      <td>1.0</td>\n      <td>1</td>\n      <td>1.0</td>\n      <td>1</td>\n      <td>0</td>\n      <td>1</td>\n      <td>1</td>\n      <td>0</td>\n      <td>...</td>\n      <td>0</td>\n      <td>0</td>\n      <td>0</td>\n      <td>0</td>\n      <td>0</td>\n      <td>0</td>\n      <td>13401</td>\n      <td>3007</td>\n      <td>0</td>\n      <td>3003</td>\n    </tr>\n    <tr>\n      <th>5379</th>\n      <td>4329</td>\n      <td>0</td>\n      <td>0.0</td>\n      <td>15</td>\n      <td>1.0</td>\n      <td>1</td>\n      <td>0</td>\n      <td>1</td>\n      <td>1</td>\n      <td>0</td>\n      <td>...</td>\n      <td>0</td>\n      <td>0</td>\n      <td>0</td>\n      <td>0</td>\n      <td>0</td>\n      <td>0</td>\n      <td>13834</td>\n      <td>3098</td>\n      <td>0</td>\n      <td>3090</td>\n    </tr>\n  </tbody>\n</table>\n<p>5380 rows × 46 columns</p>\n</div>"
     },
     "metadata": {},
     "execution_count": 41
    }
   ],
   "source": [
    "clean_df1"
   ]
  },
  {
   "cell_type": "markdown",
   "metadata": {},
   "source": [
    "## 1.3. Split train and test sets "
   ]
  },
  {
   "cell_type": "code",
   "execution_count": 59,
   "metadata": {},
   "outputs": [
    {
     "output_type": "execute_result",
     "data": {
      "text/plain": "array(['Id_Customer', 'Y', 'Number_Of_Dependant', 'Years_At_Residence',\n       'Years_At_Business', 'Nb_Of_Products',\n       'Customer_Type_Existing Client',\n       'Customer_Type_Non Existing Client', 'P_Client_NP_Client',\n       'P_Client_P_Client', 'Educational_Level_Diploma',\n       'Educational_Level_Master/PhD',\n       'Educational_Level_Secondary or Less',\n       'Educational_Level_University', 'Marital_Status_Divorced',\n       'Marital_Status_Married', 'Marital_Status_Separated',\n       'Marital_Status_Single', 'Marital_Status_Widowed',\n       'Prod_Sub_Category_C', 'Prod_Sub_Category_G',\n       'Prod_Sub_Category_P', 'Source_Branch', 'Source_Sales',\n       'Type_Of_Residence_Company', 'Type_Of_Residence_New rent',\n       'Type_Of_Residence_Old rent', 'Type_Of_Residence_Owned',\n       'Type_Of_Residence_Parents', 'Prod_Category_A', 'Prod_Category_B',\n       'Prod_Category_C', 'Prod_Category_D', 'Prod_Category_E',\n       'Prod_Category_F', 'Prod_Category_G', 'Prod_Category_H',\n       'Prod_Category_I', 'Prod_Category_J', 'Prod_Category_K',\n       'Prod_Category_L', 'Prod_Category_M', 'Birth_Duration',\n       'Customer_Open_Duration', 'Prod_not_closed',\n       'Prod_Decision_Duration'], dtype=object)"
     },
     "metadata": {},
     "execution_count": 59
    }
   ],
   "source": [
    "clean_df1.columns.values"
   ]
  },
  {
   "cell_type": "code",
   "execution_count": 42,
   "metadata": {},
   "outputs": [],
   "source": [
    "data_list = []\n",
    "labels = []\n",
    "for name in clean_df1.columns.values:\n",
    "    if name is 'Id_Customer':\n",
    "        pass\n",
    "    elif name is 'Y':\n",
    "        labels = clean_df1[name].tolist()\n",
    "    else:\n",
    "        data_list.append(clean_df1[name].tolist())\n",
    "\n",
    "data_list = np.transpose(data_list)\n",
    "\n",
    ""
   ]
  },
  {
   "cell_type": "markdown",
   "metadata": {},
   "source": [
    "## 1.4. Check data\n",
    "\n",
    "## 1.4.1. Nan elemnts"
   ]
  },
  {
   "cell_type": "code",
   "execution_count": 43,
   "metadata": {},
   "outputs": [
    {
     "output_type": "execute_result",
     "data": {
      "text/plain": "((5380, 45), (5380, 46))"
     },
     "metadata": {},
     "execution_count": 43
    }
   ],
   "source": [
    "np.shape(data_list), np.shape(clean_df1)"
   ]
  },
  {
   "cell_type": "code",
   "execution_count": 52,
   "metadata": {},
   "outputs": [
    {
     "output_type": "execute_result",
     "data": {
      "text/plain": "(array([  23,  887, 2126, 2405]), array([1, 3, 3, 1]))"
     },
     "metadata": {},
     "execution_count": 52
    }
   ],
   "source": [
    "# check nan elements\n",
    "np.where(np.isnan(X_train))"
   ]
  },
  {
   "cell_type": "code",
   "execution_count": 66,
   "metadata": {},
   "outputs": [
    {
     "output_type": "execute_result",
     "data": {
      "text/plain": "(2, 2)"
     },
     "metadata": {},
     "execution_count": 66
    }
   ],
   "source": [
    "# nan in firt and third col \n",
    "sum(np.isnan(clean_df1['Number_Of_Dependant'].tolist())), sum(np.isnan(clean_df1['Years_At_Business'].tolist()))\n"
   ]
  },
  {
   "cell_type": "code",
   "execution_count": 70,
   "metadata": {},
   "outputs": [
    {
     "output_type": "execute_result",
     "data": {
      "text/plain": "      Id_Customer  Y  Number_Of_Dependant  Years_At_Residence  \\\n634          8953  1                  NaN                  21   \n5045         9588  0                  NaN                  10   \n\n      Years_At_Business  Nb_Of_Products  Customer_Type_Existing Client  \\\n634                 1.0               2                              1   \n5045               10.0               1                              1   \n\n      Customer_Type_Non Existing Client  P_Client_NP_Client  \\\n634                                   0                   0   \n5045                                  0                   1   \n\n      P_Client_P_Client  ...  Prod_Category_H  Prod_Category_I  \\\n634                   1  ...                0                0   \n5045                  0  ...                0                0   \n\n      Prod_Category_J  Prod_Category_K  Prod_Category_L  Prod_Category_M  \\\n634                 0                0                0                0   \n5045                0                0                0                0   \n\n      Birth_Duration  Customer_Open_Duration  Prod_not_closed  \\\n634            10899                    3489                1   \n5045           25481                    5682                0   \n\n      Prod_Decision_Duration  \n634                     2913  \n5045                    2905  \n\n[2 rows x 46 columns]",
      "text/html": "<div>\n<style scoped>\n    .dataframe tbody tr th:only-of-type {\n        vertical-align: middle;\n    }\n\n    .dataframe tbody tr th {\n        vertical-align: top;\n    }\n\n    .dataframe thead th {\n        text-align: right;\n    }\n</style>\n<table border=\"1\" class=\"dataframe\">\n  <thead>\n    <tr style=\"text-align: right;\">\n      <th></th>\n      <th>Id_Customer</th>\n      <th>Y</th>\n      <th>Number_Of_Dependant</th>\n      <th>Years_At_Residence</th>\n      <th>Years_At_Business</th>\n      <th>Nb_Of_Products</th>\n      <th>Customer_Type_Existing Client</th>\n      <th>Customer_Type_Non Existing Client</th>\n      <th>P_Client_NP_Client</th>\n      <th>P_Client_P_Client</th>\n      <th>...</th>\n      <th>Prod_Category_H</th>\n      <th>Prod_Category_I</th>\n      <th>Prod_Category_J</th>\n      <th>Prod_Category_K</th>\n      <th>Prod_Category_L</th>\n      <th>Prod_Category_M</th>\n      <th>Birth_Duration</th>\n      <th>Customer_Open_Duration</th>\n      <th>Prod_not_closed</th>\n      <th>Prod_Decision_Duration</th>\n    </tr>\n  </thead>\n  <tbody>\n    <tr>\n      <th>634</th>\n      <td>8953</td>\n      <td>1</td>\n      <td>NaN</td>\n      <td>21</td>\n      <td>1.0</td>\n      <td>2</td>\n      <td>1</td>\n      <td>0</td>\n      <td>0</td>\n      <td>1</td>\n      <td>...</td>\n      <td>0</td>\n      <td>0</td>\n      <td>0</td>\n      <td>0</td>\n      <td>0</td>\n      <td>0</td>\n      <td>10899</td>\n      <td>3489</td>\n      <td>1</td>\n      <td>2913</td>\n    </tr>\n    <tr>\n      <th>5045</th>\n      <td>9588</td>\n      <td>0</td>\n      <td>NaN</td>\n      <td>10</td>\n      <td>10.0</td>\n      <td>1</td>\n      <td>1</td>\n      <td>0</td>\n      <td>1</td>\n      <td>0</td>\n      <td>...</td>\n      <td>0</td>\n      <td>0</td>\n      <td>0</td>\n      <td>0</td>\n      <td>0</td>\n      <td>0</td>\n      <td>25481</td>\n      <td>5682</td>\n      <td>0</td>\n      <td>2905</td>\n    </tr>\n  </tbody>\n</table>\n<p>2 rows × 46 columns</p>\n</div>"
     },
     "metadata": {},
     "execution_count": 70
    }
   ],
   "source": [
    "clean_df1[np.isnan(clean_df1['Number_Of_Dependant'].tolist())]"
   ]
  },
  {
   "cell_type": "code",
   "execution_count": 71,
   "metadata": {},
   "outputs": [
    {
     "output_type": "execute_result",
     "data": {
      "text/plain": "      Id_Customer  Y  Number_Of_Dependant  Years_At_Residence  \\\n1987          398  0                  0.0                  10   \n2750         5882  0                  0.0                   2   \n\n      Years_At_Business  Nb_Of_Products  Customer_Type_Existing Client  \\\n1987                NaN               2                              0   \n2750                NaN               1                              0   \n\n      Customer_Type_Non Existing Client  P_Client_NP_Client  \\\n1987                                  1                   1   \n2750                                  1                   1   \n\n      P_Client_P_Client  ...  Prod_Category_H  Prod_Category_I  \\\n1987                  0  ...                0                0   \n2750                  0  ...                0                0   \n\n      Prod_Category_J  Prod_Category_K  Prod_Category_L  Prod_Category_M  \\\n1987                0                0                0                0   \n2750                0                0                0                0   \n\n      Birth_Duration  Customer_Open_Duration  Prod_not_closed  \\\n1987           13114                    3248                1   \n2750           14124                    3039                0   \n\n      Prod_Decision_Duration  \n1987                    3241  \n2750                    3026  \n\n[2 rows x 46 columns]",
      "text/html": "<div>\n<style scoped>\n    .dataframe tbody tr th:only-of-type {\n        vertical-align: middle;\n    }\n\n    .dataframe tbody tr th {\n        vertical-align: top;\n    }\n\n    .dataframe thead th {\n        text-align: right;\n    }\n</style>\n<table border=\"1\" class=\"dataframe\">\n  <thead>\n    <tr style=\"text-align: right;\">\n      <th></th>\n      <th>Id_Customer</th>\n      <th>Y</th>\n      <th>Number_Of_Dependant</th>\n      <th>Years_At_Residence</th>\n      <th>Years_At_Business</th>\n      <th>Nb_Of_Products</th>\n      <th>Customer_Type_Existing Client</th>\n      <th>Customer_Type_Non Existing Client</th>\n      <th>P_Client_NP_Client</th>\n      <th>P_Client_P_Client</th>\n      <th>...</th>\n      <th>Prod_Category_H</th>\n      <th>Prod_Category_I</th>\n      <th>Prod_Category_J</th>\n      <th>Prod_Category_K</th>\n      <th>Prod_Category_L</th>\n      <th>Prod_Category_M</th>\n      <th>Birth_Duration</th>\n      <th>Customer_Open_Duration</th>\n      <th>Prod_not_closed</th>\n      <th>Prod_Decision_Duration</th>\n    </tr>\n  </thead>\n  <tbody>\n    <tr>\n      <th>1987</th>\n      <td>398</td>\n      <td>0</td>\n      <td>0.0</td>\n      <td>10</td>\n      <td>NaN</td>\n      <td>2</td>\n      <td>0</td>\n      <td>1</td>\n      <td>1</td>\n      <td>0</td>\n      <td>...</td>\n      <td>0</td>\n      <td>0</td>\n      <td>0</td>\n      <td>0</td>\n      <td>0</td>\n      <td>0</td>\n      <td>13114</td>\n      <td>3248</td>\n      <td>1</td>\n      <td>3241</td>\n    </tr>\n    <tr>\n      <th>2750</th>\n      <td>5882</td>\n      <td>0</td>\n      <td>0.0</td>\n      <td>2</td>\n      <td>NaN</td>\n      <td>1</td>\n      <td>0</td>\n      <td>1</td>\n      <td>1</td>\n      <td>0</td>\n      <td>...</td>\n      <td>0</td>\n      <td>0</td>\n      <td>0</td>\n      <td>0</td>\n      <td>0</td>\n      <td>0</td>\n      <td>14124</td>\n      <td>3039</td>\n      <td>0</td>\n      <td>3026</td>\n    </tr>\n  </tbody>\n</table>\n<p>2 rows × 46 columns</p>\n</div>"
     },
     "metadata": {},
     "execution_count": 71
    }
   ],
   "source": [
    "clean_df1[np.isnan(clean_df1['Years_At_Business'].tolist())]"
   ]
  },
  {
   "cell_type": "markdown",
   "metadata": {},
   "source": [
    "##### Customer with nan \n",
    "- Years_At_Business\n",
    "    - Id_Customer = 398, 5882\t\n",
    "- Number_Of_Dependant\n",
    "    - Id_Customer = 8953, 9588\t\n",
    "\n",
    "\n",
    "\n",
    "##### Potential approach:\n",
    "- Delete the data \n",
    "- Replace value with the median "
   ]
  },
  {
   "cell_type": "code",
   "execution_count": 72,
   "metadata": {},
   "outputs": [],
   "source": [
    "clean_df2 = clean_df1.copy\n",
    "\n",
    "temp_list[] = clean_df2['Number_Of_Dependant']\n",
    "temp_list[] = \n",
    "clean_df2['Number_Of_Dependant'] = \n",
    "\n"
   ]
  },
  {
   "cell_type": "code",
   "execution_count": 45,
   "metadata": {},
   "outputs": [],
   "source": [
    "X_train, X_test, y_train, y_test = train_test_split(data_list, labels, test_size=0.25, random_state=42)\n",
    "\n",
    "np.save('X_train.npy',X_train)\n",
    "np.save('X_test.npy',X_test)\n",
    "np.save('y_train.npy',y_train)\n",
    "np.save('y_test.npy',y_test)"
   ]
  },
  {
   "cell_type": "markdown",
   "metadata": {},
   "source": [
    "# 2. Deterministic Models\n",
    "\n",
    "This is a binary classification problem where we only have two labels "
   ]
  },
  {
   "cell_type": "code",
   "execution_count": 22,
   "metadata": {},
   "outputs": [
    {
     "output_type": "stream",
     "name": "stdout",
     "text": "0 4987\n1 393\n"
    }
   ],
   "source": [
    "for i in set(labels):\n",
    "    print(i,labels.count(i))"
   ]
  },
  {
   "cell_type": "markdown",
   "metadata": {},
   "source": [
    "## 2.1. KNN\n"
   ]
  },
  {
   "cell_type": "code",
   "execution_count": 47,
   "metadata": {},
   "outputs": [
    {
     "output_type": "error",
     "ename": "ValueError",
     "evalue": "Input contains NaN, infinity or a value too large for dtype('float64').",
     "traceback": [
      "\u001b[0;31m---------------------------------------------------------------------------\u001b[0m",
      "\u001b[0;31mValueError\u001b[0m                                Traceback (most recent call last)",
      "\u001b[0;32m<ipython-input-47-4aace408b607>\u001b[0m in \u001b[0;36m<module>\u001b[0;34m\u001b[0m\n\u001b[1;32m      1\u001b[0m \u001b[0;32mfrom\u001b[0m \u001b[0msklearn\u001b[0m\u001b[0;34m.\u001b[0m\u001b[0mneighbors\u001b[0m \u001b[0;32mimport\u001b[0m \u001b[0mKNeighborsClassifier\u001b[0m\u001b[0;34m\u001b[0m\u001b[0;34m\u001b[0m\u001b[0m\n\u001b[1;32m      2\u001b[0m \u001b[0mneigh\u001b[0m \u001b[0;34m=\u001b[0m \u001b[0mKNeighborsClassifier\u001b[0m\u001b[0;34m(\u001b[0m\u001b[0mn_neighbors\u001b[0m\u001b[0;34m=\u001b[0m\u001b[0;36m2\u001b[0m\u001b[0;34m)\u001b[0m\u001b[0;34m\u001b[0m\u001b[0;34m\u001b[0m\u001b[0m\n\u001b[0;32m----> 3\u001b[0;31m \u001b[0mneigh\u001b[0m\u001b[0;34m.\u001b[0m\u001b[0mfit\u001b[0m\u001b[0;34m(\u001b[0m\u001b[0mX_train\u001b[0m\u001b[0;34m,\u001b[0m \u001b[0my_train\u001b[0m\u001b[0;34m)\u001b[0m\u001b[0;34m\u001b[0m\u001b[0;34m\u001b[0m\u001b[0m\n\u001b[0m\u001b[1;32m      4\u001b[0m \u001b[0mpred_KNN\u001b[0m \u001b[0;34m=\u001b[0m \u001b[0mneigh\u001b[0m\u001b[0;34m.\u001b[0m\u001b[0mpredict\u001b[0m\u001b[0;34m(\u001b[0m\u001b[0mX_test\u001b[0m\u001b[0;34m)\u001b[0m\u001b[0;34m\u001b[0m\u001b[0;34m\u001b[0m\u001b[0m\n",
      "\u001b[0;32m~/anaconda3/lib/python3.7/site-packages/sklearn/neighbors/_base.py\u001b[0m in \u001b[0;36mfit\u001b[0;34m(self, X, y)\u001b[0m\n\u001b[1;32m   1128\u001b[0m         \"\"\"\n\u001b[1;32m   1129\u001b[0m         \u001b[0;32mif\u001b[0m \u001b[0;32mnot\u001b[0m \u001b[0misinstance\u001b[0m\u001b[0;34m(\u001b[0m\u001b[0mX\u001b[0m\u001b[0;34m,\u001b[0m \u001b[0;34m(\u001b[0m\u001b[0mKDTree\u001b[0m\u001b[0;34m,\u001b[0m \u001b[0mBallTree\u001b[0m\u001b[0;34m)\u001b[0m\u001b[0;34m)\u001b[0m\u001b[0;34m:\u001b[0m\u001b[0;34m\u001b[0m\u001b[0;34m\u001b[0m\u001b[0m\n\u001b[0;32m-> 1130\u001b[0;31m             \u001b[0mX\u001b[0m\u001b[0;34m,\u001b[0m \u001b[0my\u001b[0m \u001b[0;34m=\u001b[0m \u001b[0mcheck_X_y\u001b[0m\u001b[0;34m(\u001b[0m\u001b[0mX\u001b[0m\u001b[0;34m,\u001b[0m \u001b[0my\u001b[0m\u001b[0;34m,\u001b[0m \u001b[0;34m\"csr\"\u001b[0m\u001b[0;34m,\u001b[0m \u001b[0mmulti_output\u001b[0m\u001b[0;34m=\u001b[0m\u001b[0;32mTrue\u001b[0m\u001b[0;34m)\u001b[0m\u001b[0;34m\u001b[0m\u001b[0;34m\u001b[0m\u001b[0m\n\u001b[0m\u001b[1;32m   1131\u001b[0m \u001b[0;34m\u001b[0m\u001b[0m\n\u001b[1;32m   1132\u001b[0m         \u001b[0;32mif\u001b[0m \u001b[0my\u001b[0m\u001b[0;34m.\u001b[0m\u001b[0mndim\u001b[0m \u001b[0;34m==\u001b[0m \u001b[0;36m1\u001b[0m \u001b[0;32mor\u001b[0m \u001b[0my\u001b[0m\u001b[0;34m.\u001b[0m\u001b[0mndim\u001b[0m \u001b[0;34m==\u001b[0m \u001b[0;36m2\u001b[0m \u001b[0;32mand\u001b[0m \u001b[0my\u001b[0m\u001b[0;34m.\u001b[0m\u001b[0mshape\u001b[0m\u001b[0;34m[\u001b[0m\u001b[0;36m1\u001b[0m\u001b[0;34m]\u001b[0m \u001b[0;34m==\u001b[0m \u001b[0;36m1\u001b[0m\u001b[0;34m:\u001b[0m\u001b[0;34m\u001b[0m\u001b[0;34m\u001b[0m\u001b[0m\n",
      "\u001b[0;32m~/anaconda3/lib/python3.7/site-packages/sklearn/utils/validation.py\u001b[0m in \u001b[0;36mcheck_X_y\u001b[0;34m(X, y, accept_sparse, accept_large_sparse, dtype, order, copy, force_all_finite, ensure_2d, allow_nd, multi_output, ensure_min_samples, ensure_min_features, y_numeric, warn_on_dtype, estimator)\u001b[0m\n\u001b[1;32m    753\u001b[0m                     \u001b[0mensure_min_features\u001b[0m\u001b[0;34m=\u001b[0m\u001b[0mensure_min_features\u001b[0m\u001b[0;34m,\u001b[0m\u001b[0;34m\u001b[0m\u001b[0;34m\u001b[0m\u001b[0m\n\u001b[1;32m    754\u001b[0m                     \u001b[0mwarn_on_dtype\u001b[0m\u001b[0;34m=\u001b[0m\u001b[0mwarn_on_dtype\u001b[0m\u001b[0;34m,\u001b[0m\u001b[0;34m\u001b[0m\u001b[0;34m\u001b[0m\u001b[0m\n\u001b[0;32m--> 755\u001b[0;31m                     estimator=estimator)\n\u001b[0m\u001b[1;32m    756\u001b[0m     \u001b[0;32mif\u001b[0m \u001b[0mmulti_output\u001b[0m\u001b[0;34m:\u001b[0m\u001b[0;34m\u001b[0m\u001b[0;34m\u001b[0m\u001b[0m\n\u001b[1;32m    757\u001b[0m         y = check_array(y, 'csr', force_all_finite=True, ensure_2d=False,\n",
      "\u001b[0;32m~/anaconda3/lib/python3.7/site-packages/sklearn/utils/validation.py\u001b[0m in \u001b[0;36mcheck_array\u001b[0;34m(array, accept_sparse, accept_large_sparse, dtype, order, copy, force_all_finite, ensure_2d, allow_nd, ensure_min_samples, ensure_min_features, warn_on_dtype, estimator)\u001b[0m\n\u001b[1;32m    576\u001b[0m         \u001b[0;32mif\u001b[0m \u001b[0mforce_all_finite\u001b[0m\u001b[0;34m:\u001b[0m\u001b[0;34m\u001b[0m\u001b[0;34m\u001b[0m\u001b[0m\n\u001b[1;32m    577\u001b[0m             _assert_all_finite(array,\n\u001b[0;32m--> 578\u001b[0;31m                                allow_nan=force_all_finite == 'allow-nan')\n\u001b[0m\u001b[1;32m    579\u001b[0m \u001b[0;34m\u001b[0m\u001b[0m\n\u001b[1;32m    580\u001b[0m     \u001b[0;32mif\u001b[0m \u001b[0mensure_min_samples\u001b[0m \u001b[0;34m>\u001b[0m \u001b[0;36m0\u001b[0m\u001b[0;34m:\u001b[0m\u001b[0;34m\u001b[0m\u001b[0;34m\u001b[0m\u001b[0m\n",
      "\u001b[0;32m~/anaconda3/lib/python3.7/site-packages/sklearn/utils/validation.py\u001b[0m in \u001b[0;36m_assert_all_finite\u001b[0;34m(X, allow_nan, msg_dtype)\u001b[0m\n\u001b[1;32m     58\u001b[0m                     \u001b[0mmsg_err\u001b[0m\u001b[0;34m.\u001b[0m\u001b[0mformat\u001b[0m\u001b[0;34m\u001b[0m\u001b[0;34m\u001b[0m\u001b[0m\n\u001b[1;32m     59\u001b[0m                     (type_err,\n\u001b[0;32m---> 60\u001b[0;31m                      msg_dtype if msg_dtype is not None else X.dtype)\n\u001b[0m\u001b[1;32m     61\u001b[0m             )\n\u001b[1;32m     62\u001b[0m     \u001b[0;31m# for object dtype data, we only check for NaNs (GH-13254)\u001b[0m\u001b[0;34m\u001b[0m\u001b[0;34m\u001b[0m\u001b[0;34m\u001b[0m\u001b[0m\n",
      "\u001b[0;31mValueError\u001b[0m: Input contains NaN, infinity or a value too large for dtype('float64')."
     ]
    }
   ],
   "source": [
    "from sklearn.neighbors import KNeighborsClassifier\n",
    "\n",
    "neigh = KNeighborsClassifier(n_neighbors=2)\n",
    "neigh.fit(X_train, y_train)\n",
    "pred_KNN = neigh.predict(X_test)"
   ]
  },
  {
   "cell_type": "code",
   "execution_count": null,
   "metadata": {},
   "outputs": [],
   "source": []
  }
 ]
}